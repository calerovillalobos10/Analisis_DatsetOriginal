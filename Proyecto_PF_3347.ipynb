{
  "nbformat": 4,
  "nbformat_minor": 0,
  "metadata": {
    "colab": {
      "provenance": [],
      "collapsed_sections": [
        "xsQH_Crge916",
        "7LDc2N6LfJcv",
        "ehzGEJUev58x",
        "70lrGQgtSVMs"
      ],
      "authorship_tag": "ABX9TyMV0080YMrDoTqNH4/v5f6V",
      "include_colab_link": true
    },
    "kernelspec": {
      "name": "python3",
      "display_name": "Python 3"
    },
    "language_info": {
      "name": "python"
    }
  },
  "cells": [
    {
      "cell_type": "markdown",
      "metadata": {
        "id": "view-in-github",
        "colab_type": "text"
      },
      "source": [
        "<a href=\"https://colab.research.google.com/github/calerovillalobos10/Analisis_DatsetOriginal/blob/main/Proyecto_PF_3347.ipynb\" target=\"_parent\"><img src=\"https://colab.research.google.com/assets/colab-badge.svg\" alt=\"Open In Colab\"/></a>"
      ]
    },
    {
      "cell_type": "markdown",
      "source": [
        "# Proyecto Final: Análisis de Datos con Dataset Original"
      ],
      "metadata": {
        "id": "7wzzR8dFS4Cc"
      }
    },
    {
      "cell_type": "markdown",
      "source": [
        "## Estudiantes\n",
        "\n",
        "*   Bryan Thomas Calero Villalobos\n",
        "*   Daniela Montero Parkinson\n",
        "*   Christopher Zúñiga Cárdenas"
      ],
      "metadata": {
        "id": "DjnaATEoS0Ct"
      }
    },
    {
      "cell_type": "markdown",
      "source": [
        "# Explicación del DataSet"
      ],
      "metadata": {
        "id": "uE7C7LKdgC42"
      }
    },
    {
      "cell_type": "markdown",
      "source": [
        "# Problemática a Resolver"
      ],
      "metadata": {
        "id": "VHiS0WhAxDyW"
      }
    },
    {
      "cell_type": "markdown",
      "source": [
        "# Historia o Narrativa"
      ],
      "metadata": {
        "id": "9J1Jxuc5xEjh"
      }
    },
    {
      "cell_type": "markdown",
      "source": [
        "# Uso práctico"
      ],
      "metadata": {
        "id": "SJoaWjjzeOBN"
      }
    },
    {
      "cell_type": "markdown",
      "source": [
        "## Extracción de datos"
      ],
      "metadata": {
        "id": "kbI8m5bieRYH"
      }
    },
    {
      "cell_type": "markdown",
      "source": [
        "Como primer paso se instalan las librerías necesarias para poder hacer todos los procesos que se realizarán en este análisis de datos"
      ],
      "metadata": {
        "id": "sw-mwGlVkv1-"
      }
    },
    {
      "cell_type": "code",
      "execution_count": 1,
      "metadata": {
        "colab": {
          "base_uri": "https://localhost:8080/"
        },
        "id": "8qz24f_rp-8e",
        "outputId": "eb36d67a-b85e-46ab-edc2-69f5ef660110"
      },
      "outputs": [
        {
          "output_type": "stream",
          "name": "stdout",
          "text": [
            "Requirement already satisfied: requests in /usr/local/lib/python3.10/dist-packages (2.32.3)\n",
            "Requirement already satisfied: charset-normalizer<4,>=2 in /usr/local/lib/python3.10/dist-packages (from requests) (3.4.0)\n",
            "Requirement already satisfied: idna<4,>=2.5 in /usr/local/lib/python3.10/dist-packages (from requests) (3.10)\n",
            "Requirement already satisfied: urllib3<3,>=1.21.1 in /usr/local/lib/python3.10/dist-packages (from requests) (2.2.3)\n",
            "Requirement already satisfied: certifi>=2017.4.17 in /usr/local/lib/python3.10/dist-packages (from requests) (2024.8.30)\n",
            "Requirement already satisfied: pandas in /usr/local/lib/python3.10/dist-packages (2.2.2)\n",
            "Requirement already satisfied: numpy>=1.22.4 in /usr/local/lib/python3.10/dist-packages (from pandas) (1.26.4)\n",
            "Requirement already satisfied: python-dateutil>=2.8.2 in /usr/local/lib/python3.10/dist-packages (from pandas) (2.8.2)\n",
            "Requirement already satisfied: pytz>=2020.1 in /usr/local/lib/python3.10/dist-packages (from pandas) (2024.2)\n",
            "Requirement already satisfied: tzdata>=2022.7 in /usr/local/lib/python3.10/dist-packages (from pandas) (2024.2)\n",
            "Requirement already satisfied: six>=1.5 in /usr/local/lib/python3.10/dist-packages (from python-dateutil>=2.8.2->pandas) (1.16.0)\n",
            "\u001b[31mERROR: Could not find a version that satisfies the requirement urllib (from versions: none)\u001b[0m\u001b[31m\n",
            "\u001b[0m\u001b[31mERROR: No matching distribution found for urllib\u001b[0m\u001b[31m\n",
            "\u001b[0m\u001b[31mERROR: Could not find a version that satisfies the requirement io (from versions: none)\u001b[0m\u001b[31m\n",
            "\u001b[0m\u001b[31mERROR: No matching distribution found for io\u001b[0m\u001b[31m\n",
            "\u001b[0mRequirement already satisfied: matplotlib in /usr/local/lib/python3.10/dist-packages (3.8.0)\n",
            "Requirement already satisfied: contourpy>=1.0.1 in /usr/local/lib/python3.10/dist-packages (from matplotlib) (1.3.0)\n",
            "Requirement already satisfied: cycler>=0.10 in /usr/local/lib/python3.10/dist-packages (from matplotlib) (0.12.1)\n",
            "Requirement already satisfied: fonttools>=4.22.0 in /usr/local/lib/python3.10/dist-packages (from matplotlib) (4.54.1)\n",
            "Requirement already satisfied: kiwisolver>=1.0.1 in /usr/local/lib/python3.10/dist-packages (from matplotlib) (1.4.7)\n",
            "Requirement already satisfied: numpy<2,>=1.21 in /usr/local/lib/python3.10/dist-packages (from matplotlib) (1.26.4)\n",
            "Requirement already satisfied: packaging>=20.0 in /usr/local/lib/python3.10/dist-packages (from matplotlib) (24.1)\n",
            "Requirement already satisfied: pillow>=6.2.0 in /usr/local/lib/python3.10/dist-packages (from matplotlib) (10.4.0)\n",
            "Requirement already satisfied: pyparsing>=2.3.1 in /usr/local/lib/python3.10/dist-packages (from matplotlib) (3.2.0)\n",
            "Requirement already satisfied: python-dateutil>=2.7 in /usr/local/lib/python3.10/dist-packages (from matplotlib) (2.8.2)\n",
            "Requirement already satisfied: six>=1.5 in /usr/local/lib/python3.10/dist-packages (from python-dateutil>=2.7->matplotlib) (1.16.0)\n",
            "Requirement already satisfied: seaborn in /usr/local/lib/python3.10/dist-packages (0.13.2)\n",
            "Requirement already satisfied: numpy!=1.24.0,>=1.20 in /usr/local/lib/python3.10/dist-packages (from seaborn) (1.26.4)\n",
            "Requirement already satisfied: pandas>=1.2 in /usr/local/lib/python3.10/dist-packages (from seaborn) (2.2.2)\n",
            "Requirement already satisfied: matplotlib!=3.6.1,>=3.4 in /usr/local/lib/python3.10/dist-packages (from seaborn) (3.8.0)\n",
            "Requirement already satisfied: contourpy>=1.0.1 in /usr/local/lib/python3.10/dist-packages (from matplotlib!=3.6.1,>=3.4->seaborn) (1.3.0)\n",
            "Requirement already satisfied: cycler>=0.10 in /usr/local/lib/python3.10/dist-packages (from matplotlib!=3.6.1,>=3.4->seaborn) (0.12.1)\n",
            "Requirement already satisfied: fonttools>=4.22.0 in /usr/local/lib/python3.10/dist-packages (from matplotlib!=3.6.1,>=3.4->seaborn) (4.54.1)\n",
            "Requirement already satisfied: kiwisolver>=1.0.1 in /usr/local/lib/python3.10/dist-packages (from matplotlib!=3.6.1,>=3.4->seaborn) (1.4.7)\n",
            "Requirement already satisfied: packaging>=20.0 in /usr/local/lib/python3.10/dist-packages (from matplotlib!=3.6.1,>=3.4->seaborn) (24.1)\n",
            "Requirement already satisfied: pillow>=6.2.0 in /usr/local/lib/python3.10/dist-packages (from matplotlib!=3.6.1,>=3.4->seaborn) (10.4.0)\n",
            "Requirement already satisfied: pyparsing>=2.3.1 in /usr/local/lib/python3.10/dist-packages (from matplotlib!=3.6.1,>=3.4->seaborn) (3.2.0)\n",
            "Requirement already satisfied: python-dateutil>=2.7 in /usr/local/lib/python3.10/dist-packages (from matplotlib!=3.6.1,>=3.4->seaborn) (2.8.2)\n",
            "Requirement already satisfied: pytz>=2020.1 in /usr/local/lib/python3.10/dist-packages (from pandas>=1.2->seaborn) (2024.2)\n",
            "Requirement already satisfied: tzdata>=2022.7 in /usr/local/lib/python3.10/dist-packages (from pandas>=1.2->seaborn) (2024.2)\n",
            "Requirement already satisfied: six>=1.5 in /usr/local/lib/python3.10/dist-packages (from python-dateutil>=2.7->matplotlib!=3.6.1,>=3.4->seaborn) (1.16.0)\n",
            "Requirement already satisfied: scipy in /usr/local/lib/python3.10/dist-packages (1.13.1)\n",
            "Requirement already satisfied: numpy<2.3,>=1.22.4 in /usr/local/lib/python3.10/dist-packages (from scipy) (1.26.4)\n",
            "Collecting sklearn\n",
            "  Downloading sklearn-0.0.post12.tar.gz (2.6 kB)\n",
            "  \u001b[1;31merror\u001b[0m: \u001b[1msubprocess-exited-with-error\u001b[0m\n",
            "  \n",
            "  \u001b[31m×\u001b[0m \u001b[32mpython setup.py egg_info\u001b[0m did not run successfully.\n",
            "  \u001b[31m│\u001b[0m exit code: \u001b[1;36m1\u001b[0m\n",
            "  \u001b[31m╰─>\u001b[0m See above for output.\n",
            "  \n",
            "  \u001b[1;35mnote\u001b[0m: This error originates from a subprocess, and is likely not a problem with pip.\n",
            "  Preparing metadata (setup.py) ... \u001b[?25l\u001b[?25herror\n",
            "\u001b[1;31merror\u001b[0m: \u001b[1mmetadata-generation-failed\u001b[0m\n",
            "\n",
            "\u001b[31m×\u001b[0m Encountered error while generating package metadata.\n",
            "\u001b[31m╰─>\u001b[0m See above for output.\n",
            "\n",
            "\u001b[1;35mnote\u001b[0m: This is an issue with the package mentioned above, not pip.\n",
            "\u001b[1;36mhint\u001b[0m: See above for details.\n"
          ]
        }
      ],
      "source": [
        "!pip3 install requests\n",
        "!pip3 install pandas\n",
        "!pip3 install urllib\n",
        "!pip3 install io\n",
        "!pip3 install matplotlib\n",
        "!pip3 install seaborn\n",
        "!pip3 install scipy\n",
        "!pip3 install sklearn"
      ]
    },
    {
      "cell_type": "markdown",
      "source": [
        "Se importan las librerías para poder utilizarlas en los métodos definidos"
      ],
      "metadata": {
        "id": "iqnccjSrk3YM"
      }
    },
    {
      "cell_type": "code",
      "source": [
        "import requests\n",
        "import os\n",
        "import pandas as pd\n",
        "import matplotlib.pyplot as plt\n",
        "import seaborn as sns\n",
        "from scipy import stats\n",
        "from pandas import json_normalize\n",
        "from requests.adapters import HTTPAdapter\n",
        "from requests.packages.urllib3.util.retry import Retry\n",
        "from urllib.parse import urlencode\n",
        "from io import StringIO\n",
        "from sklearn.metrics import classification_report, accuracy_score, precision_score, recall_score, f1_score\n",
        "from sklearn.metrics import confusion_matrix, ConfusionMatrixDisplay\n",
        "from sklearn.model_selection import train_test_split"
      ],
      "metadata": {
        "id": "oYExBktnqUN8"
      },
      "execution_count": 2,
      "outputs": []
    },
    {
      "cell_type": "code",
      "source": [
        "api_url = f'https://sdmx.oecd.org/public/rest/data/OECD.WISE.WDP,DSD_HSL@DF_HSL_CWB_EDU,1.0/all?dimensionAtObservation=AllDimensions&format=csvfilewithlabels'"
      ],
      "metadata": {
        "id": "nfSUCwuwqZvp"
      },
      "execution_count": 3,
      "outputs": []
    },
    {
      "cell_type": "markdown",
      "source": [
        "Este método se implementó para realizar reintentos en caso de que no responda el request que se está realizando.\n",
        "\n",
        "Su funcionalidad se basa en crear una sesión HTTP que aplica reintentos automáticos cuando se producen errores temporales o de conexión en solicitudes GET."
      ],
      "metadata": {
        "id": "brPhNUcalNc2"
      }
    },
    {
      "cell_type": "code",
      "source": [
        "# Método para crear la estrategia de reintentos\n",
        "def create_retry_session(max_retries):\n",
        "    retry_strategy = Retry(\n",
        "        total=max_retries,  # Número máximo de reintentos\n",
        "        status_forcelist=[408, 500, 502, 503, 504],  # Errores a los que se aplicarán los reintentos\n",
        "        allowed_methods=[\"GET\"],  # Solo reintentar en solicitudes GET\n",
        "        backoff_factor=1  # Tiempo de espera entre reintentos\n",
        "    )\n",
        "    adapter = HTTPAdapter(max_retries=retry_strategy)\n",
        "\n",
        "    # Crear una sesión de requests con el adaptador de reintentos\n",
        "    http = requests.Session()\n",
        "    http.mount(\"https://\", adapter)\n",
        "\n",
        "    return http  # Devolver la sesión con la estrategia de reintentos"
      ],
      "metadata": {
        "id": "bEXSlhUXrlom"
      },
      "execution_count": 4,
      "outputs": []
    },
    {
      "cell_type": "markdown",
      "source": [
        "Se procede a realizar un consumo para obtener los datos desde el origen"
      ],
      "metadata": {
        "id": "4_d579Zrl15V"
      }
    },
    {
      "cell_type": "code",
      "source": [
        "def fetch_data(api_url, http, max_retries=1):\n",
        "\n",
        "  try:\n",
        "    headers = {\"accept\": \"application/json\"} # Encabezados de la solicitud, incluyendo la API Key\n",
        "\n",
        "    response = http.get(api_url, headers=headers) # Realiza la solicitud HTTP al API\n",
        "    response.raise_for_status() # Lanza un error si la respuesta no es exitosa\n",
        "\n",
        "    csv_data = StringIO(response.text)\n",
        "  except requests.RequestException as e:\n",
        "    print(f\"{country} No más datos\")\n",
        "\n",
        "  return csv_data"
      ],
      "metadata": {
        "id": "Otq3veUXl2Zu"
      },
      "execution_count": 5,
      "outputs": []
    },
    {
      "cell_type": "markdown",
      "source": [
        "Se invoca al método que crea la sesión con reintentas pasándole la cantidad de reintentos que se desean tener"
      ],
      "metadata": {
        "id": "e0UIn7SAllxP"
      }
    },
    {
      "cell_type": "code",
      "source": [
        "max_retries = 2\n",
        "http = create_retry_session(max_retries) #método para crear la sesión con reintentos"
      ],
      "metadata": {
        "id": "MR3dhowFrn5v"
      },
      "execution_count": 6,
      "outputs": []
    },
    {
      "cell_type": "markdown",
      "source": [
        "Se llama a la función para recuperar todos los datos del dataset"
      ],
      "metadata": {
        "id": "YWM60KU3ONr7"
      }
    },
    {
      "cell_type": "code",
      "source": [
        "# Llamar a la función\n",
        "all_data = fetch_data(api_url, http, max_retries)"
      ],
      "metadata": {
        "id": "E6A_8FliON8h"
      },
      "execution_count": 7,
      "outputs": []
    },
    {
      "cell_type": "markdown",
      "source": [
        "## Análisis EDA Exploratorio"
      ],
      "metadata": {
        "id": "Ajv5A_cseZr1"
      }
    },
    {
      "cell_type": "markdown",
      "source": [
        "### Exploración Inicial del Dataset"
      ],
      "metadata": {
        "id": "UdB-dWM9m-9K"
      }
    },
    {
      "cell_type": "markdown",
      "source": [
        "#### Proyección de primeros registros del Dataset"
      ],
      "metadata": {
        "id": "mXJEaFPrn4ww"
      }
    },
    {
      "cell_type": "markdown",
      "source": [
        "Se crea un DataFrame con los datos recuperados del método fetch, con el fin de imprimir las primeras instancias e identificar cómo está formado y cuáles serán los posibles datos que tendrá cada columna"
      ],
      "metadata": {
        "id": "UEjc_HYLvTTU"
      }
    },
    {
      "cell_type": "code",
      "source": [
        "df_original = pd.read_csv(all_data)\n",
        "df_original.head(10)"
      ],
      "metadata": {
        "colab": {
          "base_uri": "https://localhost:8080/",
          "height": 1000
        },
        "id": "hkHR93sknEqw",
        "outputId": "4f4e84a6-ecce-4280-fabb-22f9bbd1d4da"
      },
      "execution_count": 8,
      "outputs": [
        {
          "output_type": "execute_result",
          "data": {
            "text/plain": [
              "  STRUCTURE                               STRUCTURE_ID  \\\n",
              "0  DATAFLOW  OECD.WISE.WDP:DSD_HSL@DF_HSL_CWB_EDU(1.0)   \n",
              "1  DATAFLOW  OECD.WISE.WDP:DSD_HSL@DF_HSL_CWB_EDU(1.0)   \n",
              "2  DATAFLOW  OECD.WISE.WDP:DSD_HSL@DF_HSL_CWB_EDU(1.0)   \n",
              "3  DATAFLOW  OECD.WISE.WDP:DSD_HSL@DF_HSL_CWB_EDU(1.0)   \n",
              "4  DATAFLOW  OECD.WISE.WDP:DSD_HSL@DF_HSL_CWB_EDU(1.0)   \n",
              "5  DATAFLOW  OECD.WISE.WDP:DSD_HSL@DF_HSL_CWB_EDU(1.0)   \n",
              "6  DATAFLOW  OECD.WISE.WDP:DSD_HSL@DF_HSL_CWB_EDU(1.0)   \n",
              "7  DATAFLOW  OECD.WISE.WDP:DSD_HSL@DF_HSL_CWB_EDU(1.0)   \n",
              "8  DATAFLOW  OECD.WISE.WDP:DSD_HSL@DF_HSL_CWB_EDU(1.0)   \n",
              "9  DATAFLOW  OECD.WISE.WDP:DSD_HSL@DF_HSL_CWB_EDU(1.0)   \n",
              "\n",
              "                          STRUCTURE_NAME ACTION REF_AREA Reference area  \\\n",
              "0  Current well-being by education level      I      DNK        Denmark   \n",
              "1  Current well-being by education level      I      DNK        Denmark   \n",
              "2  Current well-being by education level      I      DNK        Denmark   \n",
              "3  Current well-being by education level      I      DNK        Denmark   \n",
              "4  Current well-being by education level      I      DNK        Denmark   \n",
              "5  Current well-being by education level      I      DNK        Denmark   \n",
              "6  Current well-being by education level      I      DNK        Denmark   \n",
              "7  Current well-being by education level      I      DNK        Denmark   \n",
              "8  Current well-being by education level      I      DNK        Denmark   \n",
              "9  Current well-being by education level      I      DNK        Denmark   \n",
              "\n",
              "  MEASURE                  Measure       UNIT_MEASURE  \\\n",
              "0    11_2  Negative affect balance  PT_POP_Y_GE15_SUB   \n",
              "1    11_2  Negative affect balance  PT_POP_Y_GE15_SUB   \n",
              "2    11_2  Negative affect balance  PT_POP_Y_GE15_SUB   \n",
              "3    11_2  Negative affect balance  PT_POP_Y_GE15_SUB   \n",
              "4    11_2  Negative affect balance  PT_POP_Y_GE15_SUB   \n",
              "5    11_2  Negative affect balance  PT_POP_Y_GE15_SUB   \n",
              "6    11_2  Negative affect balance  PT_POP_Y_GE15_SUB   \n",
              "7    11_2  Negative affect balance  PT_POP_Y_GE15_SUB   \n",
              "8    11_2  Negative affect balance  PT_POP_Y_GE15_SUB   \n",
              "9    11_2  Negative affect balance  PT_POP_Y_GE15_SUB   \n",
              "\n",
              "                                     Unit of measure  ... OBS_VALUE  \\\n",
              "0  Percentage of population aged 15 years or over...  ...   8.35622   \n",
              "1  Percentage of population aged 15 years or over...  ...   8.35622   \n",
              "2  Percentage of population aged 15 years or over...  ...   8.35622   \n",
              "3  Percentage of population aged 15 years or over...  ...   8.35622   \n",
              "4  Percentage of population aged 15 years or over...  ...   8.35622   \n",
              "5  Percentage of population aged 15 years or over...  ...   8.35622   \n",
              "6  Percentage of population aged 15 years or over...  ...   8.35622   \n",
              "7  Percentage of population aged 15 years or over...  ...   8.35622   \n",
              "8  Percentage of population aged 15 years or over...  ...   8.35622   \n",
              "9  Percentage of population aged 15 years or over...  ...   8.35622   \n",
              "\n",
              "  Observation value OBS_STATUS Observation status UNIT_MULT Unit multiplier  \\\n",
              "0               NaN          A       Normal value         0           Units   \n",
              "1               NaN          A       Normal value         0           Units   \n",
              "2               NaN          A       Normal value         0           Units   \n",
              "3               NaN          A       Normal value         0           Units   \n",
              "4               NaN          A       Normal value         0           Units   \n",
              "5               NaN          A       Normal value         0           Units   \n",
              "6               NaN          A       Normal value         0           Units   \n",
              "7               NaN          A       Normal value         0           Units   \n",
              "8               NaN          A       Normal value         0           Units   \n",
              "9               NaN          A       Normal value         0           Units   \n",
              "\n",
              "  DECIMALS Decimals  BASE_PER  Base period  \n",
              "0        2      Two       NaN          NaN  \n",
              "1        2      Two       NaN          NaN  \n",
              "2        2      Two       NaN          NaN  \n",
              "3        2      Two       NaN          NaN  \n",
              "4        2      Two       NaN          NaN  \n",
              "5        2      Two       NaN          NaN  \n",
              "6        2      Two       NaN          NaN  \n",
              "7        2      Two       NaN          NaN  \n",
              "8        2      Two       NaN          NaN  \n",
              "9        2      Two       NaN          NaN  \n",
              "\n",
              "[10 rows x 30 columns]"
            ],
            "text/html": [
              "\n",
              "  <div id=\"df-94c9a871-8cfd-4543-87a2-c06808c2bd44\" class=\"colab-df-container\">\n",
              "    <div>\n",
              "<style scoped>\n",
              "    .dataframe tbody tr th:only-of-type {\n",
              "        vertical-align: middle;\n",
              "    }\n",
              "\n",
              "    .dataframe tbody tr th {\n",
              "        vertical-align: top;\n",
              "    }\n",
              "\n",
              "    .dataframe thead th {\n",
              "        text-align: right;\n",
              "    }\n",
              "</style>\n",
              "<table border=\"1\" class=\"dataframe\">\n",
              "  <thead>\n",
              "    <tr style=\"text-align: right;\">\n",
              "      <th></th>\n",
              "      <th>STRUCTURE</th>\n",
              "      <th>STRUCTURE_ID</th>\n",
              "      <th>STRUCTURE_NAME</th>\n",
              "      <th>ACTION</th>\n",
              "      <th>REF_AREA</th>\n",
              "      <th>Reference area</th>\n",
              "      <th>MEASURE</th>\n",
              "      <th>Measure</th>\n",
              "      <th>UNIT_MEASURE</th>\n",
              "      <th>Unit of measure</th>\n",
              "      <th>...</th>\n",
              "      <th>OBS_VALUE</th>\n",
              "      <th>Observation value</th>\n",
              "      <th>OBS_STATUS</th>\n",
              "      <th>Observation status</th>\n",
              "      <th>UNIT_MULT</th>\n",
              "      <th>Unit multiplier</th>\n",
              "      <th>DECIMALS</th>\n",
              "      <th>Decimals</th>\n",
              "      <th>BASE_PER</th>\n",
              "      <th>Base period</th>\n",
              "    </tr>\n",
              "  </thead>\n",
              "  <tbody>\n",
              "    <tr>\n",
              "      <th>0</th>\n",
              "      <td>DATAFLOW</td>\n",
              "      <td>OECD.WISE.WDP:DSD_HSL@DF_HSL_CWB_EDU(1.0)</td>\n",
              "      <td>Current well-being by education level</td>\n",
              "      <td>I</td>\n",
              "      <td>DNK</td>\n",
              "      <td>Denmark</td>\n",
              "      <td>11_2</td>\n",
              "      <td>Negative affect balance</td>\n",
              "      <td>PT_POP_Y_GE15_SUB</td>\n",
              "      <td>Percentage of population aged 15 years or over...</td>\n",
              "      <td>...</td>\n",
              "      <td>8.35622</td>\n",
              "      <td>NaN</td>\n",
              "      <td>A</td>\n",
              "      <td>Normal value</td>\n",
              "      <td>0</td>\n",
              "      <td>Units</td>\n",
              "      <td>2</td>\n",
              "      <td>Two</td>\n",
              "      <td>NaN</td>\n",
              "      <td>NaN</td>\n",
              "    </tr>\n",
              "    <tr>\n",
              "      <th>1</th>\n",
              "      <td>DATAFLOW</td>\n",
              "      <td>OECD.WISE.WDP:DSD_HSL@DF_HSL_CWB_EDU(1.0)</td>\n",
              "      <td>Current well-being by education level</td>\n",
              "      <td>I</td>\n",
              "      <td>DNK</td>\n",
              "      <td>Denmark</td>\n",
              "      <td>11_2</td>\n",
              "      <td>Negative affect balance</td>\n",
              "      <td>PT_POP_Y_GE15_SUB</td>\n",
              "      <td>Percentage of population aged 15 years or over...</td>\n",
              "      <td>...</td>\n",
              "      <td>8.35622</td>\n",
              "      <td>NaN</td>\n",
              "      <td>A</td>\n",
              "      <td>Normal value</td>\n",
              "      <td>0</td>\n",
              "      <td>Units</td>\n",
              "      <td>2</td>\n",
              "      <td>Two</td>\n",
              "      <td>NaN</td>\n",
              "      <td>NaN</td>\n",
              "    </tr>\n",
              "    <tr>\n",
              "      <th>2</th>\n",
              "      <td>DATAFLOW</td>\n",
              "      <td>OECD.WISE.WDP:DSD_HSL@DF_HSL_CWB_EDU(1.0)</td>\n",
              "      <td>Current well-being by education level</td>\n",
              "      <td>I</td>\n",
              "      <td>DNK</td>\n",
              "      <td>Denmark</td>\n",
              "      <td>11_2</td>\n",
              "      <td>Negative affect balance</td>\n",
              "      <td>PT_POP_Y_GE15_SUB</td>\n",
              "      <td>Percentage of population aged 15 years or over...</td>\n",
              "      <td>...</td>\n",
              "      <td>8.35622</td>\n",
              "      <td>NaN</td>\n",
              "      <td>A</td>\n",
              "      <td>Normal value</td>\n",
              "      <td>0</td>\n",
              "      <td>Units</td>\n",
              "      <td>2</td>\n",
              "      <td>Two</td>\n",
              "      <td>NaN</td>\n",
              "      <td>NaN</td>\n",
              "    </tr>\n",
              "    <tr>\n",
              "      <th>3</th>\n",
              "      <td>DATAFLOW</td>\n",
              "      <td>OECD.WISE.WDP:DSD_HSL@DF_HSL_CWB_EDU(1.0)</td>\n",
              "      <td>Current well-being by education level</td>\n",
              "      <td>I</td>\n",
              "      <td>DNK</td>\n",
              "      <td>Denmark</td>\n",
              "      <td>11_2</td>\n",
              "      <td>Negative affect balance</td>\n",
              "      <td>PT_POP_Y_GE15_SUB</td>\n",
              "      <td>Percentage of population aged 15 years or over...</td>\n",
              "      <td>...</td>\n",
              "      <td>8.35622</td>\n",
              "      <td>NaN</td>\n",
              "      <td>A</td>\n",
              "      <td>Normal value</td>\n",
              "      <td>0</td>\n",
              "      <td>Units</td>\n",
              "      <td>2</td>\n",
              "      <td>Two</td>\n",
              "      <td>NaN</td>\n",
              "      <td>NaN</td>\n",
              "    </tr>\n",
              "    <tr>\n",
              "      <th>4</th>\n",
              "      <td>DATAFLOW</td>\n",
              "      <td>OECD.WISE.WDP:DSD_HSL@DF_HSL_CWB_EDU(1.0)</td>\n",
              "      <td>Current well-being by education level</td>\n",
              "      <td>I</td>\n",
              "      <td>DNK</td>\n",
              "      <td>Denmark</td>\n",
              "      <td>11_2</td>\n",
              "      <td>Negative affect balance</td>\n",
              "      <td>PT_POP_Y_GE15_SUB</td>\n",
              "      <td>Percentage of population aged 15 years or over...</td>\n",
              "      <td>...</td>\n",
              "      <td>8.35622</td>\n",
              "      <td>NaN</td>\n",
              "      <td>A</td>\n",
              "      <td>Normal value</td>\n",
              "      <td>0</td>\n",
              "      <td>Units</td>\n",
              "      <td>2</td>\n",
              "      <td>Two</td>\n",
              "      <td>NaN</td>\n",
              "      <td>NaN</td>\n",
              "    </tr>\n",
              "    <tr>\n",
              "      <th>5</th>\n",
              "      <td>DATAFLOW</td>\n",
              "      <td>OECD.WISE.WDP:DSD_HSL@DF_HSL_CWB_EDU(1.0)</td>\n",
              "      <td>Current well-being by education level</td>\n",
              "      <td>I</td>\n",
              "      <td>DNK</td>\n",
              "      <td>Denmark</td>\n",
              "      <td>11_2</td>\n",
              "      <td>Negative affect balance</td>\n",
              "      <td>PT_POP_Y_GE15_SUB</td>\n",
              "      <td>Percentage of population aged 15 years or over...</td>\n",
              "      <td>...</td>\n",
              "      <td>8.35622</td>\n",
              "      <td>NaN</td>\n",
              "      <td>A</td>\n",
              "      <td>Normal value</td>\n",
              "      <td>0</td>\n",
              "      <td>Units</td>\n",
              "      <td>2</td>\n",
              "      <td>Two</td>\n",
              "      <td>NaN</td>\n",
              "      <td>NaN</td>\n",
              "    </tr>\n",
              "    <tr>\n",
              "      <th>6</th>\n",
              "      <td>DATAFLOW</td>\n",
              "      <td>OECD.WISE.WDP:DSD_HSL@DF_HSL_CWB_EDU(1.0)</td>\n",
              "      <td>Current well-being by education level</td>\n",
              "      <td>I</td>\n",
              "      <td>DNK</td>\n",
              "      <td>Denmark</td>\n",
              "      <td>11_2</td>\n",
              "      <td>Negative affect balance</td>\n",
              "      <td>PT_POP_Y_GE15_SUB</td>\n",
              "      <td>Percentage of population aged 15 years or over...</td>\n",
              "      <td>...</td>\n",
              "      <td>8.35622</td>\n",
              "      <td>NaN</td>\n",
              "      <td>A</td>\n",
              "      <td>Normal value</td>\n",
              "      <td>0</td>\n",
              "      <td>Units</td>\n",
              "      <td>2</td>\n",
              "      <td>Two</td>\n",
              "      <td>NaN</td>\n",
              "      <td>NaN</td>\n",
              "    </tr>\n",
              "    <tr>\n",
              "      <th>7</th>\n",
              "      <td>DATAFLOW</td>\n",
              "      <td>OECD.WISE.WDP:DSD_HSL@DF_HSL_CWB_EDU(1.0)</td>\n",
              "      <td>Current well-being by education level</td>\n",
              "      <td>I</td>\n",
              "      <td>DNK</td>\n",
              "      <td>Denmark</td>\n",
              "      <td>11_2</td>\n",
              "      <td>Negative affect balance</td>\n",
              "      <td>PT_POP_Y_GE15_SUB</td>\n",
              "      <td>Percentage of population aged 15 years or over...</td>\n",
              "      <td>...</td>\n",
              "      <td>8.35622</td>\n",
              "      <td>NaN</td>\n",
              "      <td>A</td>\n",
              "      <td>Normal value</td>\n",
              "      <td>0</td>\n",
              "      <td>Units</td>\n",
              "      <td>2</td>\n",
              "      <td>Two</td>\n",
              "      <td>NaN</td>\n",
              "      <td>NaN</td>\n",
              "    </tr>\n",
              "    <tr>\n",
              "      <th>8</th>\n",
              "      <td>DATAFLOW</td>\n",
              "      <td>OECD.WISE.WDP:DSD_HSL@DF_HSL_CWB_EDU(1.0)</td>\n",
              "      <td>Current well-being by education level</td>\n",
              "      <td>I</td>\n",
              "      <td>DNK</td>\n",
              "      <td>Denmark</td>\n",
              "      <td>11_2</td>\n",
              "      <td>Negative affect balance</td>\n",
              "      <td>PT_POP_Y_GE15_SUB</td>\n",
              "      <td>Percentage of population aged 15 years or over...</td>\n",
              "      <td>...</td>\n",
              "      <td>8.35622</td>\n",
              "      <td>NaN</td>\n",
              "      <td>A</td>\n",
              "      <td>Normal value</td>\n",
              "      <td>0</td>\n",
              "      <td>Units</td>\n",
              "      <td>2</td>\n",
              "      <td>Two</td>\n",
              "      <td>NaN</td>\n",
              "      <td>NaN</td>\n",
              "    </tr>\n",
              "    <tr>\n",
              "      <th>9</th>\n",
              "      <td>DATAFLOW</td>\n",
              "      <td>OECD.WISE.WDP:DSD_HSL@DF_HSL_CWB_EDU(1.0)</td>\n",
              "      <td>Current well-being by education level</td>\n",
              "      <td>I</td>\n",
              "      <td>DNK</td>\n",
              "      <td>Denmark</td>\n",
              "      <td>11_2</td>\n",
              "      <td>Negative affect balance</td>\n",
              "      <td>PT_POP_Y_GE15_SUB</td>\n",
              "      <td>Percentage of population aged 15 years or over...</td>\n",
              "      <td>...</td>\n",
              "      <td>8.35622</td>\n",
              "      <td>NaN</td>\n",
              "      <td>A</td>\n",
              "      <td>Normal value</td>\n",
              "      <td>0</td>\n",
              "      <td>Units</td>\n",
              "      <td>2</td>\n",
              "      <td>Two</td>\n",
              "      <td>NaN</td>\n",
              "      <td>NaN</td>\n",
              "    </tr>\n",
              "  </tbody>\n",
              "</table>\n",
              "<p>10 rows × 30 columns</p>\n",
              "</div>\n",
              "    <div class=\"colab-df-buttons\">\n",
              "\n",
              "  <div class=\"colab-df-container\">\n",
              "    <button class=\"colab-df-convert\" onclick=\"convertToInteractive('df-94c9a871-8cfd-4543-87a2-c06808c2bd44')\"\n",
              "            title=\"Convert this dataframe to an interactive table.\"\n",
              "            style=\"display:none;\">\n",
              "\n",
              "  <svg xmlns=\"http://www.w3.org/2000/svg\" height=\"24px\" viewBox=\"0 -960 960 960\">\n",
              "    <path d=\"M120-120v-720h720v720H120Zm60-500h600v-160H180v160Zm220 220h160v-160H400v160Zm0 220h160v-160H400v160ZM180-400h160v-160H180v160Zm440 0h160v-160H620v160ZM180-180h160v-160H180v160Zm440 0h160v-160H620v160Z\"/>\n",
              "  </svg>\n",
              "    </button>\n",
              "\n",
              "  <style>\n",
              "    .colab-df-container {\n",
              "      display:flex;\n",
              "      gap: 12px;\n",
              "    }\n",
              "\n",
              "    .colab-df-convert {\n",
              "      background-color: #E8F0FE;\n",
              "      border: none;\n",
              "      border-radius: 50%;\n",
              "      cursor: pointer;\n",
              "      display: none;\n",
              "      fill: #1967D2;\n",
              "      height: 32px;\n",
              "      padding: 0 0 0 0;\n",
              "      width: 32px;\n",
              "    }\n",
              "\n",
              "    .colab-df-convert:hover {\n",
              "      background-color: #E2EBFA;\n",
              "      box-shadow: 0px 1px 2px rgba(60, 64, 67, 0.3), 0px 1px 3px 1px rgba(60, 64, 67, 0.15);\n",
              "      fill: #174EA6;\n",
              "    }\n",
              "\n",
              "    .colab-df-buttons div {\n",
              "      margin-bottom: 4px;\n",
              "    }\n",
              "\n",
              "    [theme=dark] .colab-df-convert {\n",
              "      background-color: #3B4455;\n",
              "      fill: #D2E3FC;\n",
              "    }\n",
              "\n",
              "    [theme=dark] .colab-df-convert:hover {\n",
              "      background-color: #434B5C;\n",
              "      box-shadow: 0px 1px 3px 1px rgba(0, 0, 0, 0.15);\n",
              "      filter: drop-shadow(0px 1px 2px rgba(0, 0, 0, 0.3));\n",
              "      fill: #FFFFFF;\n",
              "    }\n",
              "  </style>\n",
              "\n",
              "    <script>\n",
              "      const buttonEl =\n",
              "        document.querySelector('#df-94c9a871-8cfd-4543-87a2-c06808c2bd44 button.colab-df-convert');\n",
              "      buttonEl.style.display =\n",
              "        google.colab.kernel.accessAllowed ? 'block' : 'none';\n",
              "\n",
              "      async function convertToInteractive(key) {\n",
              "        const element = document.querySelector('#df-94c9a871-8cfd-4543-87a2-c06808c2bd44');\n",
              "        const dataTable =\n",
              "          await google.colab.kernel.invokeFunction('convertToInteractive',\n",
              "                                                    [key], {});\n",
              "        if (!dataTable) return;\n",
              "\n",
              "        const docLinkHtml = 'Like what you see? Visit the ' +\n",
              "          '<a target=\"_blank\" href=https://colab.research.google.com/notebooks/data_table.ipynb>data table notebook</a>'\n",
              "          + ' to learn more about interactive tables.';\n",
              "        element.innerHTML = '';\n",
              "        dataTable['output_type'] = 'display_data';\n",
              "        await google.colab.output.renderOutput(dataTable, element);\n",
              "        const docLink = document.createElement('div');\n",
              "        docLink.innerHTML = docLinkHtml;\n",
              "        element.appendChild(docLink);\n",
              "      }\n",
              "    </script>\n",
              "  </div>\n",
              "\n",
              "\n",
              "<div id=\"df-de86de6f-a55b-4ebb-ae4c-f1468f85c88b\">\n",
              "  <button class=\"colab-df-quickchart\" onclick=\"quickchart('df-de86de6f-a55b-4ebb-ae4c-f1468f85c88b')\"\n",
              "            title=\"Suggest charts\"\n",
              "            style=\"display:none;\">\n",
              "\n",
              "<svg xmlns=\"http://www.w3.org/2000/svg\" height=\"24px\"viewBox=\"0 0 24 24\"\n",
              "     width=\"24px\">\n",
              "    <g>\n",
              "        <path d=\"M19 3H5c-1.1 0-2 .9-2 2v14c0 1.1.9 2 2 2h14c1.1 0 2-.9 2-2V5c0-1.1-.9-2-2-2zM9 17H7v-7h2v7zm4 0h-2V7h2v10zm4 0h-2v-4h2v4z\"/>\n",
              "    </g>\n",
              "</svg>\n",
              "  </button>\n",
              "\n",
              "<style>\n",
              "  .colab-df-quickchart {\n",
              "      --bg-color: #E8F0FE;\n",
              "      --fill-color: #1967D2;\n",
              "      --hover-bg-color: #E2EBFA;\n",
              "      --hover-fill-color: #174EA6;\n",
              "      --disabled-fill-color: #AAA;\n",
              "      --disabled-bg-color: #DDD;\n",
              "  }\n",
              "\n",
              "  [theme=dark] .colab-df-quickchart {\n",
              "      --bg-color: #3B4455;\n",
              "      --fill-color: #D2E3FC;\n",
              "      --hover-bg-color: #434B5C;\n",
              "      --hover-fill-color: #FFFFFF;\n",
              "      --disabled-bg-color: #3B4455;\n",
              "      --disabled-fill-color: #666;\n",
              "  }\n",
              "\n",
              "  .colab-df-quickchart {\n",
              "    background-color: var(--bg-color);\n",
              "    border: none;\n",
              "    border-radius: 50%;\n",
              "    cursor: pointer;\n",
              "    display: none;\n",
              "    fill: var(--fill-color);\n",
              "    height: 32px;\n",
              "    padding: 0;\n",
              "    width: 32px;\n",
              "  }\n",
              "\n",
              "  .colab-df-quickchart:hover {\n",
              "    background-color: var(--hover-bg-color);\n",
              "    box-shadow: 0 1px 2px rgba(60, 64, 67, 0.3), 0 1px 3px 1px rgba(60, 64, 67, 0.15);\n",
              "    fill: var(--button-hover-fill-color);\n",
              "  }\n",
              "\n",
              "  .colab-df-quickchart-complete:disabled,\n",
              "  .colab-df-quickchart-complete:disabled:hover {\n",
              "    background-color: var(--disabled-bg-color);\n",
              "    fill: var(--disabled-fill-color);\n",
              "    box-shadow: none;\n",
              "  }\n",
              "\n",
              "  .colab-df-spinner {\n",
              "    border: 2px solid var(--fill-color);\n",
              "    border-color: transparent;\n",
              "    border-bottom-color: var(--fill-color);\n",
              "    animation:\n",
              "      spin 1s steps(1) infinite;\n",
              "  }\n",
              "\n",
              "  @keyframes spin {\n",
              "    0% {\n",
              "      border-color: transparent;\n",
              "      border-bottom-color: var(--fill-color);\n",
              "      border-left-color: var(--fill-color);\n",
              "    }\n",
              "    20% {\n",
              "      border-color: transparent;\n",
              "      border-left-color: var(--fill-color);\n",
              "      border-top-color: var(--fill-color);\n",
              "    }\n",
              "    30% {\n",
              "      border-color: transparent;\n",
              "      border-left-color: var(--fill-color);\n",
              "      border-top-color: var(--fill-color);\n",
              "      border-right-color: var(--fill-color);\n",
              "    }\n",
              "    40% {\n",
              "      border-color: transparent;\n",
              "      border-right-color: var(--fill-color);\n",
              "      border-top-color: var(--fill-color);\n",
              "    }\n",
              "    60% {\n",
              "      border-color: transparent;\n",
              "      border-right-color: var(--fill-color);\n",
              "    }\n",
              "    80% {\n",
              "      border-color: transparent;\n",
              "      border-right-color: var(--fill-color);\n",
              "      border-bottom-color: var(--fill-color);\n",
              "    }\n",
              "    90% {\n",
              "      border-color: transparent;\n",
              "      border-bottom-color: var(--fill-color);\n",
              "    }\n",
              "  }\n",
              "</style>\n",
              "\n",
              "  <script>\n",
              "    async function quickchart(key) {\n",
              "      const quickchartButtonEl =\n",
              "        document.querySelector('#' + key + ' button');\n",
              "      quickchartButtonEl.disabled = true;  // To prevent multiple clicks.\n",
              "      quickchartButtonEl.classList.add('colab-df-spinner');\n",
              "      try {\n",
              "        const charts = await google.colab.kernel.invokeFunction(\n",
              "            'suggestCharts', [key], {});\n",
              "      } catch (error) {\n",
              "        console.error('Error during call to suggestCharts:', error);\n",
              "      }\n",
              "      quickchartButtonEl.classList.remove('colab-df-spinner');\n",
              "      quickchartButtonEl.classList.add('colab-df-quickchart-complete');\n",
              "    }\n",
              "    (() => {\n",
              "      let quickchartButtonEl =\n",
              "        document.querySelector('#df-de86de6f-a55b-4ebb-ae4c-f1468f85c88b button');\n",
              "      quickchartButtonEl.style.display =\n",
              "        google.colab.kernel.accessAllowed ? 'block' : 'none';\n",
              "    })();\n",
              "  </script>\n",
              "</div>\n",
              "\n",
              "    </div>\n",
              "  </div>\n"
            ],
            "application/vnd.google.colaboratory.intrinsic+json": {
              "type": "dataframe",
              "variable_name": "df_original"
            }
          },
          "metadata": {},
          "execution_count": 8
        }
      ]
    },
    {
      "cell_type": "markdown",
      "source": [
        "#### Estructura y resumen de los datos"
      ],
      "metadata": {
        "id": "tgArZjDOop48"
      }
    },
    {
      "cell_type": "markdown",
      "source": [
        "Se utiliza el método \".info\" para obtener un resumen rápido de la estructura del DataFrame"
      ],
      "metadata": {
        "id": "o8TEj2c0vGNE"
      }
    },
    {
      "cell_type": "code",
      "source": [
        "df_original.info()"
      ],
      "metadata": {
        "colab": {
          "base_uri": "https://localhost:8080/"
        },
        "id": "UyE0EzH9o0Ve",
        "outputId": "47896798-aa64-4b91-c728-d69b859f0449"
      },
      "execution_count": 9,
      "outputs": [
        {
          "output_type": "stream",
          "name": "stdout",
          "text": [
            "<class 'pandas.core.frame.DataFrame'>\n",
            "RangeIndex: 12286 entries, 0 to 12285\n",
            "Data columns (total 30 columns):\n",
            " #   Column              Non-Null Count  Dtype  \n",
            "---  ------              --------------  -----  \n",
            " 0   STRUCTURE           12286 non-null  object \n",
            " 1   STRUCTURE_ID        12286 non-null  object \n",
            " 2   STRUCTURE_NAME      12286 non-null  object \n",
            " 3   ACTION              12286 non-null  object \n",
            " 4   REF_AREA            12286 non-null  object \n",
            " 5   Reference area      12286 non-null  object \n",
            " 6   MEASURE             12286 non-null  object \n",
            " 7   Measure             12286 non-null  object \n",
            " 8   UNIT_MEASURE        12286 non-null  object \n",
            " 9   Unit of measure     12286 non-null  object \n",
            " 10  AGE                 12286 non-null  object \n",
            " 11  Age                 12286 non-null  object \n",
            " 12  SEX                 12286 non-null  object \n",
            " 13  Sex                 12286 non-null  object \n",
            " 14  EDUCATION_LEV       12286 non-null  object \n",
            " 15  Education level     12286 non-null  object \n",
            " 16  DOMAIN              12286 non-null  object \n",
            " 17  Domain              12286 non-null  object \n",
            " 18  TIME_PERIOD         12286 non-null  int64  \n",
            " 19  Time period         0 non-null      float64\n",
            " 20  OBS_VALUE           12286 non-null  float64\n",
            " 21  Observation value   0 non-null      float64\n",
            " 22  OBS_STATUS          12286 non-null  object \n",
            " 23  Observation status  12286 non-null  object \n",
            " 24  UNIT_MULT           12286 non-null  int64  \n",
            " 25  Unit multiplier     12286 non-null  object \n",
            " 26  DECIMALS            12286 non-null  int64  \n",
            " 27  Decimals            12286 non-null  object \n",
            " 28  BASE_PER            0 non-null      float64\n",
            " 29  Base period         0 non-null      float64\n",
            "dtypes: float64(5), int64(3), object(22)\n",
            "memory usage: 2.8+ MB\n"
          ]
        }
      ]
    },
    {
      "cell_type": "markdown",
      "source": [
        "El método de pandas \".describe\" retorna los datos de: promedio, conteo, min, max , persentiles 25/50/75 y desviacion estandar por cada columna de tipo numérico."
      ],
      "metadata": {
        "id": "yblWM0luuiWR"
      }
    },
    {
      "cell_type": "code",
      "source": [
        "df_original.describe()"
      ],
      "metadata": {
        "colab": {
          "base_uri": "https://localhost:8080/",
          "height": 300
        },
        "id": "ZNVu3wlmo3qE",
        "outputId": "a9d25733-b4cc-493d-f601-46ecde891873"
      },
      "execution_count": 10,
      "outputs": [
        {
          "output_type": "execute_result",
          "data": {
            "text/plain": [
              "        TIME_PERIOD  Time period     OBS_VALUE  Observation value  UNIT_MULT  \\\n",
              "count  12286.000000          0.0  12286.000000                0.0    12286.0   \n",
              "mean    2014.609474          NaN     72.581038                NaN        0.0   \n",
              "std        4.868647          NaN    100.860416                NaN        0.0   \n",
              "min     2004.000000          NaN      0.024030                NaN        0.0   \n",
              "25%     2011.000000          NaN     11.072614                NaN        0.0   \n",
              "50%     2015.000000          NaN     62.000000                NaN        0.0   \n",
              "75%     2018.000000          NaN     84.241020                NaN        0.0   \n",
              "max     2023.000000          NaN    558.212230                NaN        0.0   \n",
              "\n",
              "       DECIMALS  BASE_PER  Base period  \n",
              "count   12286.0       0.0          0.0  \n",
              "mean        2.0       NaN          NaN  \n",
              "std         0.0       NaN          NaN  \n",
              "min         2.0       NaN          NaN  \n",
              "25%         2.0       NaN          NaN  \n",
              "50%         2.0       NaN          NaN  \n",
              "75%         2.0       NaN          NaN  \n",
              "max         2.0       NaN          NaN  "
            ],
            "text/html": [
              "\n",
              "  <div id=\"df-016b43d2-f13f-475d-8e91-dec89dca8a1d\" class=\"colab-df-container\">\n",
              "    <div>\n",
              "<style scoped>\n",
              "    .dataframe tbody tr th:only-of-type {\n",
              "        vertical-align: middle;\n",
              "    }\n",
              "\n",
              "    .dataframe tbody tr th {\n",
              "        vertical-align: top;\n",
              "    }\n",
              "\n",
              "    .dataframe thead th {\n",
              "        text-align: right;\n",
              "    }\n",
              "</style>\n",
              "<table border=\"1\" class=\"dataframe\">\n",
              "  <thead>\n",
              "    <tr style=\"text-align: right;\">\n",
              "      <th></th>\n",
              "      <th>TIME_PERIOD</th>\n",
              "      <th>Time period</th>\n",
              "      <th>OBS_VALUE</th>\n",
              "      <th>Observation value</th>\n",
              "      <th>UNIT_MULT</th>\n",
              "      <th>DECIMALS</th>\n",
              "      <th>BASE_PER</th>\n",
              "      <th>Base period</th>\n",
              "    </tr>\n",
              "  </thead>\n",
              "  <tbody>\n",
              "    <tr>\n",
              "      <th>count</th>\n",
              "      <td>12286.000000</td>\n",
              "      <td>0.0</td>\n",
              "      <td>12286.000000</td>\n",
              "      <td>0.0</td>\n",
              "      <td>12286.0</td>\n",
              "      <td>12286.0</td>\n",
              "      <td>0.0</td>\n",
              "      <td>0.0</td>\n",
              "    </tr>\n",
              "    <tr>\n",
              "      <th>mean</th>\n",
              "      <td>2014.609474</td>\n",
              "      <td>NaN</td>\n",
              "      <td>72.581038</td>\n",
              "      <td>NaN</td>\n",
              "      <td>0.0</td>\n",
              "      <td>2.0</td>\n",
              "      <td>NaN</td>\n",
              "      <td>NaN</td>\n",
              "    </tr>\n",
              "    <tr>\n",
              "      <th>std</th>\n",
              "      <td>4.868647</td>\n",
              "      <td>NaN</td>\n",
              "      <td>100.860416</td>\n",
              "      <td>NaN</td>\n",
              "      <td>0.0</td>\n",
              "      <td>0.0</td>\n",
              "      <td>NaN</td>\n",
              "      <td>NaN</td>\n",
              "    </tr>\n",
              "    <tr>\n",
              "      <th>min</th>\n",
              "      <td>2004.000000</td>\n",
              "      <td>NaN</td>\n",
              "      <td>0.024030</td>\n",
              "      <td>NaN</td>\n",
              "      <td>0.0</td>\n",
              "      <td>2.0</td>\n",
              "      <td>NaN</td>\n",
              "      <td>NaN</td>\n",
              "    </tr>\n",
              "    <tr>\n",
              "      <th>25%</th>\n",
              "      <td>2011.000000</td>\n",
              "      <td>NaN</td>\n",
              "      <td>11.072614</td>\n",
              "      <td>NaN</td>\n",
              "      <td>0.0</td>\n",
              "      <td>2.0</td>\n",
              "      <td>NaN</td>\n",
              "      <td>NaN</td>\n",
              "    </tr>\n",
              "    <tr>\n",
              "      <th>50%</th>\n",
              "      <td>2015.000000</td>\n",
              "      <td>NaN</td>\n",
              "      <td>62.000000</td>\n",
              "      <td>NaN</td>\n",
              "      <td>0.0</td>\n",
              "      <td>2.0</td>\n",
              "      <td>NaN</td>\n",
              "      <td>NaN</td>\n",
              "    </tr>\n",
              "    <tr>\n",
              "      <th>75%</th>\n",
              "      <td>2018.000000</td>\n",
              "      <td>NaN</td>\n",
              "      <td>84.241020</td>\n",
              "      <td>NaN</td>\n",
              "      <td>0.0</td>\n",
              "      <td>2.0</td>\n",
              "      <td>NaN</td>\n",
              "      <td>NaN</td>\n",
              "    </tr>\n",
              "    <tr>\n",
              "      <th>max</th>\n",
              "      <td>2023.000000</td>\n",
              "      <td>NaN</td>\n",
              "      <td>558.212230</td>\n",
              "      <td>NaN</td>\n",
              "      <td>0.0</td>\n",
              "      <td>2.0</td>\n",
              "      <td>NaN</td>\n",
              "      <td>NaN</td>\n",
              "    </tr>\n",
              "  </tbody>\n",
              "</table>\n",
              "</div>\n",
              "    <div class=\"colab-df-buttons\">\n",
              "\n",
              "  <div class=\"colab-df-container\">\n",
              "    <button class=\"colab-df-convert\" onclick=\"convertToInteractive('df-016b43d2-f13f-475d-8e91-dec89dca8a1d')\"\n",
              "            title=\"Convert this dataframe to an interactive table.\"\n",
              "            style=\"display:none;\">\n",
              "\n",
              "  <svg xmlns=\"http://www.w3.org/2000/svg\" height=\"24px\" viewBox=\"0 -960 960 960\">\n",
              "    <path d=\"M120-120v-720h720v720H120Zm60-500h600v-160H180v160Zm220 220h160v-160H400v160Zm0 220h160v-160H400v160ZM180-400h160v-160H180v160Zm440 0h160v-160H620v160ZM180-180h160v-160H180v160Zm440 0h160v-160H620v160Z\"/>\n",
              "  </svg>\n",
              "    </button>\n",
              "\n",
              "  <style>\n",
              "    .colab-df-container {\n",
              "      display:flex;\n",
              "      gap: 12px;\n",
              "    }\n",
              "\n",
              "    .colab-df-convert {\n",
              "      background-color: #E8F0FE;\n",
              "      border: none;\n",
              "      border-radius: 50%;\n",
              "      cursor: pointer;\n",
              "      display: none;\n",
              "      fill: #1967D2;\n",
              "      height: 32px;\n",
              "      padding: 0 0 0 0;\n",
              "      width: 32px;\n",
              "    }\n",
              "\n",
              "    .colab-df-convert:hover {\n",
              "      background-color: #E2EBFA;\n",
              "      box-shadow: 0px 1px 2px rgba(60, 64, 67, 0.3), 0px 1px 3px 1px rgba(60, 64, 67, 0.15);\n",
              "      fill: #174EA6;\n",
              "    }\n",
              "\n",
              "    .colab-df-buttons div {\n",
              "      margin-bottom: 4px;\n",
              "    }\n",
              "\n",
              "    [theme=dark] .colab-df-convert {\n",
              "      background-color: #3B4455;\n",
              "      fill: #D2E3FC;\n",
              "    }\n",
              "\n",
              "    [theme=dark] .colab-df-convert:hover {\n",
              "      background-color: #434B5C;\n",
              "      box-shadow: 0px 1px 3px 1px rgba(0, 0, 0, 0.15);\n",
              "      filter: drop-shadow(0px 1px 2px rgba(0, 0, 0, 0.3));\n",
              "      fill: #FFFFFF;\n",
              "    }\n",
              "  </style>\n",
              "\n",
              "    <script>\n",
              "      const buttonEl =\n",
              "        document.querySelector('#df-016b43d2-f13f-475d-8e91-dec89dca8a1d button.colab-df-convert');\n",
              "      buttonEl.style.display =\n",
              "        google.colab.kernel.accessAllowed ? 'block' : 'none';\n",
              "\n",
              "      async function convertToInteractive(key) {\n",
              "        const element = document.querySelector('#df-016b43d2-f13f-475d-8e91-dec89dca8a1d');\n",
              "        const dataTable =\n",
              "          await google.colab.kernel.invokeFunction('convertToInteractive',\n",
              "                                                    [key], {});\n",
              "        if (!dataTable) return;\n",
              "\n",
              "        const docLinkHtml = 'Like what you see? Visit the ' +\n",
              "          '<a target=\"_blank\" href=https://colab.research.google.com/notebooks/data_table.ipynb>data table notebook</a>'\n",
              "          + ' to learn more about interactive tables.';\n",
              "        element.innerHTML = '';\n",
              "        dataTable['output_type'] = 'display_data';\n",
              "        await google.colab.output.renderOutput(dataTable, element);\n",
              "        const docLink = document.createElement('div');\n",
              "        docLink.innerHTML = docLinkHtml;\n",
              "        element.appendChild(docLink);\n",
              "      }\n",
              "    </script>\n",
              "  </div>\n",
              "\n",
              "\n",
              "<div id=\"df-ebd4c981-6a5b-4085-9906-8259f76e7bf6\">\n",
              "  <button class=\"colab-df-quickchart\" onclick=\"quickchart('df-ebd4c981-6a5b-4085-9906-8259f76e7bf6')\"\n",
              "            title=\"Suggest charts\"\n",
              "            style=\"display:none;\">\n",
              "\n",
              "<svg xmlns=\"http://www.w3.org/2000/svg\" height=\"24px\"viewBox=\"0 0 24 24\"\n",
              "     width=\"24px\">\n",
              "    <g>\n",
              "        <path d=\"M19 3H5c-1.1 0-2 .9-2 2v14c0 1.1.9 2 2 2h14c1.1 0 2-.9 2-2V5c0-1.1-.9-2-2-2zM9 17H7v-7h2v7zm4 0h-2V7h2v10zm4 0h-2v-4h2v4z\"/>\n",
              "    </g>\n",
              "</svg>\n",
              "  </button>\n",
              "\n",
              "<style>\n",
              "  .colab-df-quickchart {\n",
              "      --bg-color: #E8F0FE;\n",
              "      --fill-color: #1967D2;\n",
              "      --hover-bg-color: #E2EBFA;\n",
              "      --hover-fill-color: #174EA6;\n",
              "      --disabled-fill-color: #AAA;\n",
              "      --disabled-bg-color: #DDD;\n",
              "  }\n",
              "\n",
              "  [theme=dark] .colab-df-quickchart {\n",
              "      --bg-color: #3B4455;\n",
              "      --fill-color: #D2E3FC;\n",
              "      --hover-bg-color: #434B5C;\n",
              "      --hover-fill-color: #FFFFFF;\n",
              "      --disabled-bg-color: #3B4455;\n",
              "      --disabled-fill-color: #666;\n",
              "  }\n",
              "\n",
              "  .colab-df-quickchart {\n",
              "    background-color: var(--bg-color);\n",
              "    border: none;\n",
              "    border-radius: 50%;\n",
              "    cursor: pointer;\n",
              "    display: none;\n",
              "    fill: var(--fill-color);\n",
              "    height: 32px;\n",
              "    padding: 0;\n",
              "    width: 32px;\n",
              "  }\n",
              "\n",
              "  .colab-df-quickchart:hover {\n",
              "    background-color: var(--hover-bg-color);\n",
              "    box-shadow: 0 1px 2px rgba(60, 64, 67, 0.3), 0 1px 3px 1px rgba(60, 64, 67, 0.15);\n",
              "    fill: var(--button-hover-fill-color);\n",
              "  }\n",
              "\n",
              "  .colab-df-quickchart-complete:disabled,\n",
              "  .colab-df-quickchart-complete:disabled:hover {\n",
              "    background-color: var(--disabled-bg-color);\n",
              "    fill: var(--disabled-fill-color);\n",
              "    box-shadow: none;\n",
              "  }\n",
              "\n",
              "  .colab-df-spinner {\n",
              "    border: 2px solid var(--fill-color);\n",
              "    border-color: transparent;\n",
              "    border-bottom-color: var(--fill-color);\n",
              "    animation:\n",
              "      spin 1s steps(1) infinite;\n",
              "  }\n",
              "\n",
              "  @keyframes spin {\n",
              "    0% {\n",
              "      border-color: transparent;\n",
              "      border-bottom-color: var(--fill-color);\n",
              "      border-left-color: var(--fill-color);\n",
              "    }\n",
              "    20% {\n",
              "      border-color: transparent;\n",
              "      border-left-color: var(--fill-color);\n",
              "      border-top-color: var(--fill-color);\n",
              "    }\n",
              "    30% {\n",
              "      border-color: transparent;\n",
              "      border-left-color: var(--fill-color);\n",
              "      border-top-color: var(--fill-color);\n",
              "      border-right-color: var(--fill-color);\n",
              "    }\n",
              "    40% {\n",
              "      border-color: transparent;\n",
              "      border-right-color: var(--fill-color);\n",
              "      border-top-color: var(--fill-color);\n",
              "    }\n",
              "    60% {\n",
              "      border-color: transparent;\n",
              "      border-right-color: var(--fill-color);\n",
              "    }\n",
              "    80% {\n",
              "      border-color: transparent;\n",
              "      border-right-color: var(--fill-color);\n",
              "      border-bottom-color: var(--fill-color);\n",
              "    }\n",
              "    90% {\n",
              "      border-color: transparent;\n",
              "      border-bottom-color: var(--fill-color);\n",
              "    }\n",
              "  }\n",
              "</style>\n",
              "\n",
              "  <script>\n",
              "    async function quickchart(key) {\n",
              "      const quickchartButtonEl =\n",
              "        document.querySelector('#' + key + ' button');\n",
              "      quickchartButtonEl.disabled = true;  // To prevent multiple clicks.\n",
              "      quickchartButtonEl.classList.add('colab-df-spinner');\n",
              "      try {\n",
              "        const charts = await google.colab.kernel.invokeFunction(\n",
              "            'suggestCharts', [key], {});\n",
              "      } catch (error) {\n",
              "        console.error('Error during call to suggestCharts:', error);\n",
              "      }\n",
              "      quickchartButtonEl.classList.remove('colab-df-spinner');\n",
              "      quickchartButtonEl.classList.add('colab-df-quickchart-complete');\n",
              "    }\n",
              "    (() => {\n",
              "      let quickchartButtonEl =\n",
              "        document.querySelector('#df-ebd4c981-6a5b-4085-9906-8259f76e7bf6 button');\n",
              "      quickchartButtonEl.style.display =\n",
              "        google.colab.kernel.accessAllowed ? 'block' : 'none';\n",
              "    })();\n",
              "  </script>\n",
              "</div>\n",
              "\n",
              "    </div>\n",
              "  </div>\n"
            ],
            "application/vnd.google.colaboratory.intrinsic+json": {
              "type": "dataframe",
              "summary": "{\n  \"name\": \"df_original\",\n  \"rows\": 8,\n  \"fields\": [\n    {\n      \"column\": \"TIME_PERIOD\",\n      \"properties\": {\n        \"dtype\": \"number\",\n        \"std\": 3798.742279406483,\n        \"min\": 4.868647105724053,\n        \"max\": 12286.0,\n        \"num_unique_values\": 8,\n        \"samples\": [\n          2014.6094741982745,\n          2015.0,\n          12286.0\n        ],\n        \"semantic_type\": \"\",\n        \"description\": \"\"\n      }\n    },\n    {\n      \"column\": \"Time period\",\n      \"properties\": {\n        \"dtype\": \"number\",\n        \"std\": null,\n        \"min\": 0.0,\n        \"max\": 0.0,\n        \"num_unique_values\": 1,\n        \"samples\": [\n          0.0\n        ],\n        \"semantic_type\": \"\",\n        \"description\": \"\"\n      }\n    },\n    {\n      \"column\": \"OBS_VALUE\",\n      \"properties\": {\n        \"dtype\": \"number\",\n        \"std\": 4302.596413000353,\n        \"min\": 0.0240298415411054,\n        \"max\": 12286.0,\n        \"num_unique_values\": 8,\n        \"samples\": [\n          72.5810378979806\n        ],\n        \"semantic_type\": \"\",\n        \"description\": \"\"\n      }\n    },\n    {\n      \"column\": \"Observation value\",\n      \"properties\": {\n        \"dtype\": \"number\",\n        \"std\": null,\n        \"min\": 0.0,\n        \"max\": 0.0,\n        \"num_unique_values\": 1,\n        \"samples\": [\n          0.0\n        ],\n        \"semantic_type\": \"\",\n        \"description\": \"\"\n      }\n    },\n    {\n      \"column\": \"UNIT_MULT\",\n      \"properties\": {\n        \"dtype\": \"number\",\n        \"std\": 4343.756956828962,\n        \"min\": 0.0,\n        \"max\": 12286.0,\n        \"num_unique_values\": 2,\n        \"samples\": [\n          0.0\n        ],\n        \"semantic_type\": \"\",\n        \"description\": \"\"\n      }\n    },\n    {\n      \"column\": \"DECIMALS\",\n      \"properties\": {\n        \"dtype\": \"number\",\n        \"std\": 4343.150921689394,\n        \"min\": 0.0,\n        \"max\": 12286.0,\n        \"num_unique_values\": 3,\n        \"samples\": [\n          12286.0\n        ],\n        \"semantic_type\": \"\",\n        \"description\": \"\"\n      }\n    },\n    {\n      \"column\": \"BASE_PER\",\n      \"properties\": {\n        \"dtype\": \"number\",\n        \"std\": null,\n        \"min\": 0.0,\n        \"max\": 0.0,\n        \"num_unique_values\": 1,\n        \"samples\": [\n          0.0\n        ],\n        \"semantic_type\": \"\",\n        \"description\": \"\"\n      }\n    },\n    {\n      \"column\": \"Base period\",\n      \"properties\": {\n        \"dtype\": \"number\",\n        \"std\": null,\n        \"min\": 0.0,\n        \"max\": 0.0,\n        \"num_unique_values\": 1,\n        \"samples\": [\n          0.0\n        ],\n        \"semantic_type\": \"\",\n        \"description\": \"\"\n      }\n    }\n  ]\n}"
            }
          },
          "metadata": {},
          "execution_count": 10
        }
      ]
    },
    {
      "cell_type": "markdown",
      "source": [
        "#### Exploración de valores nulos"
      ],
      "metadata": {
        "id": "ooWY5RKhpLqx"
      }
    },
    {
      "cell_type": "markdown",
      "source": [
        "Se utiliza el método \".isnull().sum()\" para determinar las columnas que poseen datos vacíos en el conjunto de datos y la cantidad que poseen."
      ],
      "metadata": {
        "id": "8pyEFYuxp6L0"
      }
    },
    {
      "cell_type": "code",
      "source": [
        "print(f'Cantidad de nulos: \\n')\n",
        "nulos = df_original.isnull().sum()"
      ],
      "metadata": {
        "colab": {
          "base_uri": "https://localhost:8080/"
        },
        "id": "Yfgj5nKhpz0B",
        "outputId": "54cf8ca7-0320-4ed4-ea0f-9ada6f5572c9"
      },
      "execution_count": 11,
      "outputs": [
        {
          "output_type": "stream",
          "name": "stdout",
          "text": [
            "Cantidad de nulos: \n",
            "\n"
          ]
        }
      ]
    },
    {
      "cell_type": "markdown",
      "source": [
        "#### Detección de datos duplicados"
      ],
      "metadata": {
        "id": "GRXEXZCrpN-L"
      }
    },
    {
      "cell_type": "markdown",
      "source": [
        "Para evitar conclusiones incorrectas, es necesario eliminar los duplicados del dataset.\n",
        "\n",
        "Se utiliza el método \".duplicated().sum()\" para determinar la cantidad de valores duplicados"
      ],
      "metadata": {
        "id": "E9YuKh0oqJWS"
      }
    },
    {
      "cell_type": "code",
      "source": [
        "print(f'Cantidad de duplicados: \\n')\n",
        "duplicados = df_original.duplicated().sum()"
      ],
      "metadata": {
        "colab": {
          "base_uri": "https://localhost:8080/"
        },
        "id": "ZjVLgpbpp2Jh",
        "outputId": "b75d53cd-9a56-4957-f373-6bf8918093a3"
      },
      "execution_count": 12,
      "outputs": [
        {
          "output_type": "stream",
          "name": "stdout",
          "text": [
            "Cantidad de duplicados: \n",
            "\n"
          ]
        }
      ]
    },
    {
      "cell_type": "markdown",
      "source": [
        "#### Identificar relevancia de las variables"
      ],
      "metadata": {
        "id": "vsBxEyNfpXvP"
      }
    },
    {
      "cell_type": "markdown",
      "source": [
        " Se procede a identificar y descartar columnas que no aportan información relevante para el análisis. Las columnas con 1 o menos subniveles no son útiles, debido a que no varían y, por lo tanto, no pueden contribuir a la diferenciación o clasificación en el análisis de datos."
      ],
      "metadata": {
        "id": "kqJru1ySqpOs"
      }
    },
    {
      "cell_type": "code",
      "source": [
        "cols_cat = df_original.columns.tolist() # se capturan los nombres de las columnas del DF\n",
        "\n",
        "col_descartadas = [] # se inicializa un array para capturar las columnas que se descartarán por poca relevancia\n",
        "\n",
        "# Se identifican cuántos subniveles tiene cada columna\n",
        "for col in cols_cat:\n",
        "  print(f'Columna {col}: {df_original[col].nunique()} subniveles o distintos.')\n",
        "\n",
        "  if(df_original[col].nunique() <= 1):\n",
        "    col_descartadas.append(col)"
      ],
      "metadata": {
        "colab": {
          "base_uri": "https://localhost:8080/"
        },
        "id": "DBnNjr0Wqxxg",
        "outputId": "65e92ff4-21c0-46ef-e25b-78b05d654158"
      },
      "execution_count": 13,
      "outputs": [
        {
          "output_type": "stream",
          "name": "stdout",
          "text": [
            "Columna STRUCTURE: 1 subniveles o distintos.\n",
            "Columna STRUCTURE_ID: 1 subniveles o distintos.\n",
            "Columna STRUCTURE_NAME: 1 subniveles o distintos.\n",
            "Columna ACTION: 1 subniveles o distintos.\n",
            "Columna REF_AREA: 40 subniveles o distintos.\n",
            "Columna Reference area: 40 subniveles o distintos.\n",
            "Columna MEASURE: 17 subniveles o distintos.\n",
            "Columna Measure: 17 subniveles o distintos.\n",
            "Columna UNIT_MEASURE: 10 subniveles o distintos.\n",
            "Columna Unit of measure: 10 subniveles o distintos.\n",
            "Columna AGE: 1 subniveles o distintos.\n",
            "Columna Age: 1 subniveles o distintos.\n",
            "Columna SEX: 1 subniveles o distintos.\n",
            "Columna Sex: 1 subniveles o distintos.\n",
            "Columna EDUCATION_LEV: 3 subniveles o distintos.\n",
            "Columna Education level: 3 subniveles o distintos.\n",
            "Columna DOMAIN: 8 subniveles o distintos.\n",
            "Columna Domain: 8 subniveles o distintos.\n",
            "Columna TIME_PERIOD: 20 subniveles o distintos.\n",
            "Columna Time period: 0 subniveles o distintos.\n",
            "Columna OBS_VALUE: 6803 subniveles o distintos.\n",
            "Columna Observation value: 0 subniveles o distintos.\n",
            "Columna OBS_STATUS: 5 subniveles o distintos.\n",
            "Columna Observation status: 5 subniveles o distintos.\n",
            "Columna UNIT_MULT: 1 subniveles o distintos.\n",
            "Columna Unit multiplier: 1 subniveles o distintos.\n",
            "Columna DECIMALS: 1 subniveles o distintos.\n",
            "Columna Decimals: 1 subniveles o distintos.\n",
            "Columna BASE_PER: 0 subniveles o distintos.\n",
            "Columna Base period: 0 subniveles o distintos.\n"
          ]
        }
      ]
    },
    {
      "cell_type": "markdown",
      "source": [
        "#### Identificación de Outliers"
      ],
      "metadata": {
        "id": "o-v-lF8l3WBE"
      }
    },
    {
      "cell_type": "markdown",
      "source": [
        "Eliminar espacios al principio y al final en todas las columnas de texto para mantener un estandar y buenas prácticas de limpieza"
      ],
      "metadata": {
        "id": "1xwNFxx-31UZ"
      }
    },
    {
      "cell_type": "code",
      "source": [
        "def trim_column_names(df):\n",
        "  df.columns = df.columns.str.strip()\n",
        "  return df"
      ],
      "metadata": {
        "id": "8RVWFbW431dL"
      },
      "execution_count": 14,
      "outputs": []
    },
    {
      "cell_type": "markdown",
      "source": [
        "Se invoca a la función para eliminar los espacios al principio y al final de los nombres de las columnas"
      ],
      "metadata": {
        "id": "p8haqN4T4jA3"
      }
    },
    {
      "cell_type": "code",
      "source": [
        "df_original = trim_column_names(df_original)"
      ],
      "metadata": {
        "id": "54X-9YKr4h7G"
      },
      "execution_count": 15,
      "outputs": []
    },
    {
      "cell_type": "markdown",
      "source": [
        "Se aplica un histograma para revisar outliers. El método genera un histograma para cada columna numérica en el DataFrame"
      ],
      "metadata": {
        "id": "SU0F-w6P3bCa"
      }
    },
    {
      "cell_type": "code",
      "source": [
        "def plot_histograms(df):\n",
        "  # Filtrar solo las columnas numéricas\n",
        "  numeric_columns = df.select_dtypes(include=['number']).columns\n",
        "\n",
        "  # Crear un histograma para cada columna numérica\n",
        "  for col in numeric_columns:\n",
        "    plt.figure(figsize=(10, 6))\n",
        "    sns.histplot(data=df, x=col, bins=30, kde=True)\n",
        "    plt.title(f'Histograma del parámetro: {col}')\n",
        "    plt.xlabel(col)\n",
        "    plt.ylabel('Frecuencia')\n",
        "\n",
        "    # Mostrar el gráfico\n",
        "    plt.show()"
      ],
      "metadata": {
        "id": "DE3eSJWm3bJL"
      },
      "execution_count": 16,
      "outputs": []
    },
    {
      "cell_type": "markdown",
      "source": [
        "Se procede a generar un gráfico de caja (boxplot) para cada columna numérica especificada en el DataFrame. Para revisar outliers en variables numericas"
      ],
      "metadata": {
        "id": "w1TGYJSo956I"
      }
    },
    {
      "cell_type": "code",
      "source": [
        "def plot_boxplots(df, cols_num):\n",
        "  # Definir la estructura del gráfico\n",
        "  fig, ax = plt.subplots(nrows=len(cols_num), ncols=1, figsize=(8, 10))\n",
        "  fig.subplots_adjust(hspace=0.5)  # Espacio entre gráficos\n",
        "\n",
        "  # Crear un boxplot para cada columna válida\n",
        "  for i, col in enumerate(cols_num):\n",
        "    sns.boxplot(x=col, data=df, ax=ax[i])  # Crear el gráfico de caja\n",
        "    ax[i].set_title(f'Gráfico del parámetro: {col}')  # Establecer el título del gráfico\n",
        "\n",
        "# Mostrar los gráficos\n",
        "plt.show()"
      ],
      "metadata": {
        "id": "rxyQaFmxPxr7"
      },
      "execution_count": 18,
      "outputs": []
    },
    {
      "cell_type": "markdown",
      "source": [
        "Este método funciona para imprimir el valor mínimo y máximo de cada columna numérica en el DataFrame"
      ],
      "metadata": {
        "id": "rcu94lzQ_SBL"
      }
    },
    {
      "cell_type": "code",
      "source": [
        "def print_min_max_values(df, cols_num):\n",
        "  # Filtrar solo las columnas numéricas\n",
        "  cols_num = df.select_dtypes(include=['number']).columns\n",
        "\n",
        "  # Iterar sobre cada columna numérica y calcular min y max\n",
        "  for col in cols_num:\n",
        "    min_value = df[col].min()\n",
        "    max_value = df[col].max()\n",
        "    print(f'Columna: {col}')\n",
        "    print(f'Datos menor: {min_value}')\n",
        "    print(f'Datos mayor: {max_value}\\n')"
      ],
      "metadata": {
        "id": "O32hbOWK_SIE"
      },
      "execution_count": 19,
      "outputs": []
    },
    {
      "cell_type": "markdown",
      "source": [
        "Método para graficar los subniveles de cada variable categórica para identificar outliers. Se utiliza para identificar outliers en las columnas de tipo categoría. Esto con el fin de detectar, por ejemplo: mayúsculas, minúscualas, tildes dentro de las mismas categorías. Además, se grafican los parámetros de categorías con el fin de identicar si hay algún dato que necesita ser unificado, por nombre con mayúsculas o minúsculas"
      ],
      "metadata": {
        "id": "9xZycIl3FQxI"
      }
    },
    {
      "cell_type": "code",
      "source": [
        "def plot_categories(df, cols_cat):\n",
        "  # Crear figura y ejes\n",
        "  fig, ax = plt.subplots(nrows=len(cols_cat), ncols=1, figsize=(10, 10 * len(cols_cat)))\n",
        "  fig.subplots_adjust(hspace=0.25)  # Ajustar espacio entre subplots\n",
        "\n",
        "  # Iterar por cada columna categórica\n",
        "  for i, col in enumerate(cols_cat):\n",
        "    sns.countplot(y=col, data=df, ax=ax[i], hue=col, palette='Set2')\n",
        "    ax[i].set_title(f'Gráfico del parámetro: {col}')\n",
        "\n",
        "    ax[i].tick_params(axis='y', rotation=0) # Usar plt.xticks() para rotar etiquetas sin problemas de locators\n",
        "\n",
        "# Mostrar el gráfico\n",
        "plt.show()"
      ],
      "metadata": {
        "id": "vC1akD2vFRBk"
      },
      "execution_count": 20,
      "outputs": []
    },
    {
      "cell_type": "markdown",
      "source": [
        "Se crean variables con las columnas numéricas del dataframe, y las categóricas"
      ],
      "metadata": {
        "id": "msdh8f71EDN1"
      }
    },
    {
      "cell_type": "code",
      "source": [
        "cols_num = df_original.select_dtypes(include=['number']).columns\n",
        "cols_cat = []"
      ],
      "metadata": {
        "id": "vNsqcxiWD0Z7"
      },
      "execution_count": 21,
      "outputs": []
    },
    {
      "cell_type": "markdown",
      "source": [
        "Validar que las columnas sean realmente numéricas"
      ],
      "metadata": {
        "id": "GuvvCrGjQnlC"
      }
    },
    {
      "cell_type": "code",
      "source": [
        "def validate_numeric_columns(df, cols_num):\n",
        "  valid_cols = []\n",
        "  for col in cols_num:\n",
        "    if col in df.columns and pd.api.types.is_numeric_dtype(df[col]) and df[col].notnull().any():\n",
        "      valid_cols.append(col)\n",
        "    else:\n",
        "      print(f\"Columna '{col}' no válida. Se omitirá.\")\n",
        "\n",
        "  if not valid_cols:\n",
        "    print(\"No hay columnas numéricas válidas para graficar.\")\n",
        "\n",
        "  return valid_cols"
      ],
      "metadata": {
        "id": "ojkQ8OLIQqfV"
      },
      "execution_count": 22,
      "outputs": []
    },
    {
      "cell_type": "markdown",
      "source": [
        "Llamada de funciones"
      ],
      "metadata": {
        "id": "upSNvExsELtr"
      }
    },
    {
      "cell_type": "code",
      "source": [
        "valid_columns = validate_numeric_columns(df_original, cols_num)\n",
        "\n",
        "plot_histograms(df_original) # Llamada a la función que crea los histogramas\n",
        "plot_boxplots(df_original, valid_columns) # Llamada a la función que crea los gráficos de caja\n",
        "#plot_categories(df_original, cols_cat) # Llamada a la función que crea los gráficos de barras para detectar visualmente si hay categorías diferentes\n",
        "print_min_max_values(df_original, valid_columns) # Llama a la función que imprime el mínimo y el máximo de cada columna numérica"
      ],
      "metadata": {
        "colab": {
          "base_uri": "https://localhost:8080/",
          "height": 1000
        },
        "id": "ilZRfGFCD3CS",
        "outputId": "577c60e8-4046-43c8-89ea-f294b0e5f946"
      },
      "execution_count": 23,
      "outputs": [
        {
          "output_type": "stream",
          "name": "stdout",
          "text": [
            "Columna 'Time period' no válida. Se omitirá.\n",
            "Columna 'Observation value' no válida. Se omitirá.\n",
            "Columna 'BASE_PER' no válida. Se omitirá.\n",
            "Columna 'Base period' no válida. Se omitirá.\n"
          ]
        },
        {
          "output_type": "display_data",
          "data": {
            "text/plain": [
              "<Figure size 1000x600 with 1 Axes>"
            ],
            "image/png": "[encoded data removed]"
          },
          "metadata": {}
        },
        {
          "output_type": "display_data",
          "data": {
            "text/plain": [
              "<Figure size 1000x600 with 1 Axes>"
            ],
            "image/png": "[encoded data removed]"
          },
          "metadata": {}
        },
        {
          "output_type": "display_data",
          "data": {
            "text/plain": [
              "<Figure size 1000x600 with 1 Axes>"
            ],
            "image/png": "[encoded data removed]"
          },
          "metadata": {}
        },
        {
          "output_type": "display_data",
          "data": {
            "text/plain": [
              "<Figure size 1000x600 with 1 Axes>"
            ],
            "image/png": "[encoded data removed]"
          },
          "metadata": {}
        },
        {
          "output_type": "display_data",
          "data": {
            "text/plain": [
              "<Figure size 1000x600 with 1 Axes>"
            ],
            "image/png": "[encoded data removed]"
          },
          "metadata": {}
        },
        {
          "output_type": "display_data",
          "data": {
            "text/plain": [
              "<Figure size 1000x600 with 1 Axes>"
            ],
            "image/png": "[encoded data removed]"
          },
          "metadata": {}
        },
        {
          "output_type": "display_data",
          "data": {
            "text/plain": [
              "<Figure size 1000x600 with 1 Axes>"
            ],
            "image/png": "[encoded data removed]"
          },
          "metadata": {}
        },
        {
          "output_type": "display_data",
          "data": {
            "text/plain": [
              "<Figure size 1000x600 with 1 Axes>"
            ],
            "image/png": "[encoded data removed]"
          },
          "metadata": {}
        },
        {
          "output_type": "stream",
          "name": "stdout",
          "text": [
            "Columna: TIME_PERIOD\n",
            "Datos menor: 2004\n",
            "Datos mayor: 2023\n",
            "\n",
            "Columna: Time period\n",
            "Datos menor: nan\n",
            "Datos mayor: nan\n",
            "\n",
            "Columna: OBS_VALUE\n",
            "Datos menor: 0.0240298415411054\n",
            "Datos mayor: 558.21223\n",
            "\n",
            "Columna: Observation value\n",
            "Datos menor: nan\n",
            "Datos mayor: nan\n",
            "\n",
            "Columna: UNIT_MULT\n",
            "Datos menor: 0\n",
            "Datos mayor: 0\n",
            "\n",
            "Columna: DECIMALS\n",
            "Datos menor: 2\n",
            "Datos mayor: 2\n",
            "\n",
            "Columna: BASE_PER\n",
            "Datos menor: nan\n",
            "Datos mayor: nan\n",
            "\n",
            "Columna: Base period\n",
            "Datos menor: nan\n",
            "Datos mayor: nan\n",
            "\n"
          ]
        },
        {
          "output_type": "display_data",
          "data": {
            "text/plain": [
              "<Figure size 800x1000 with 4 Axes>"
            ],
            "image/png": "[encoded data removed]"
          },
          "metadata": {}
        }
      ]
    },
    {
      "cell_type": "markdown",
      "source": [
        "#### Análisis Multivariable"
      ],
      "metadata": {
        "id": "AnAvimlQIerZ"
      }
    },
    {
      "cell_type": "markdown",
      "source": [
        "Se realiza un análisis Multiversal para comprender la relación entre las variables. Primero se extraen las columnas númericas para posteriormente generar la matriz de correlacion que muestre la relación entre las columnas obtenidas, para esto se utiliza el método \".corr()\"."
      ],
      "metadata": {
        "id": "efb0k0nEIhiz"
      }
    },
    {
      "cell_type": "code",
      "source": [
        "df_numerico = df_original.select_dtypes(include=['number','int64', 'float64']) # Obtención de las columnas númericas\n",
        "\n",
        "correlacion = df_numerico.corr() # Calcular la matriz de correlación\n",
        "correlacion"
      ],
      "metadata": {
        "colab": {
          "base_uri": "https://localhost:8080/",
          "height": 335
        },
        "id": "r7EZewd2Ihqg",
        "outputId": "a0ad3e91-02d4-4a4a-c099-94e1346526c5"
      },
      "execution_count": 24,
      "outputs": [
        {
          "output_type": "execute_result",
          "data": {
            "text/plain": [
              "                   TIME_PERIOD  Time period  OBS_VALUE  Observation value  \\\n",
              "TIME_PERIOD           1.000000          NaN   0.063431                NaN   \n",
              "Time period                NaN          NaN        NaN                NaN   \n",
              "OBS_VALUE             0.063431          NaN   1.000000                NaN   \n",
              "Observation value          NaN          NaN        NaN                NaN   \n",
              "UNIT_MULT                  NaN          NaN        NaN                NaN   \n",
              "DECIMALS                   NaN          NaN        NaN                NaN   \n",
              "BASE_PER                   NaN          NaN        NaN                NaN   \n",
              "Base period                NaN          NaN        NaN                NaN   \n",
              "\n",
              "                   UNIT_MULT  DECIMALS  BASE_PER  Base period  \n",
              "TIME_PERIOD              NaN       NaN       NaN          NaN  \n",
              "Time period              NaN       NaN       NaN          NaN  \n",
              "OBS_VALUE                NaN       NaN       NaN          NaN  \n",
              "Observation value        NaN       NaN       NaN          NaN  \n",
              "UNIT_MULT                NaN       NaN       NaN          NaN  \n",
              "DECIMALS                 NaN       NaN       NaN          NaN  \n",
              "BASE_PER                 NaN       NaN       NaN          NaN  \n",
              "Base period              NaN       NaN       NaN          NaN  "
            ],
            "text/html": [
              "\n",
              "  <div id=\"df-f9292ea4-4299-4b22-a568-2ee5e4b8c63a\" class=\"colab-df-container\">\n",
              "    <div>\n",
              "<style scoped>\n",
              "    .dataframe tbody tr th:only-of-type {\n",
              "        vertical-align: middle;\n",
              "    }\n",
              "\n",
              "    .dataframe tbody tr th {\n",
              "        vertical-align: top;\n",
              "    }\n",
              "\n",
              "    .dataframe thead th {\n",
              "        text-align: right;\n",
              "    }\n",
              "</style>\n",
              "<table border=\"1\" class=\"dataframe\">\n",
              "  <thead>\n",
              "    <tr style=\"text-align: right;\">\n",
              "      <th></th>\n",
              "      <th>TIME_PERIOD</th>\n",
              "      <th>Time period</th>\n",
              "      <th>OBS_VALUE</th>\n",
              "      <th>Observation value</th>\n",
              "      <th>UNIT_MULT</th>\n",
              "      <th>DECIMALS</th>\n",
              "      <th>BASE_PER</th>\n",
              "      <th>Base period</th>\n",
              "    </tr>\n",
              "  </thead>\n",
              "  <tbody>\n",
              "    <tr>\n",
              "      <th>TIME_PERIOD</th>\n",
              "      <td>1.000000</td>\n",
              "      <td>NaN</td>\n",
              "      <td>0.063431</td>\n",
              "      <td>NaN</td>\n",
              "      <td>NaN</td>\n",
              "      <td>NaN</td>\n",
              "      <td>NaN</td>\n",
              "      <td>NaN</td>\n",
              "    </tr>\n",
              "    <tr>\n",
              "      <th>Time period</th>\n",
              "      <td>NaN</td>\n",
              "      <td>NaN</td>\n",
              "      <td>NaN</td>\n",
              "      <td>NaN</td>\n",
              "      <td>NaN</td>\n",
              "      <td>NaN</td>\n",
              "      <td>NaN</td>\n",
              "      <td>NaN</td>\n",
              "    </tr>\n",
              "    <tr>\n",
              "      <th>OBS_VALUE</th>\n",
              "      <td>0.063431</td>\n",
              "      <td>NaN</td>\n",
              "      <td>1.000000</td>\n",
              "      <td>NaN</td>\n",
              "      <td>NaN</td>\n",
              "      <td>NaN</td>\n",
              "      <td>NaN</td>\n",
              "      <td>NaN</td>\n",
              "    </tr>\n",
              "    <tr>\n",
              "      <th>Observation value</th>\n",
              "      <td>NaN</td>\n",
              "      <td>NaN</td>\n",
              "      <td>NaN</td>\n",
              "      <td>NaN</td>\n",
              "      <td>NaN</td>\n",
              "      <td>NaN</td>\n",
              "      <td>NaN</td>\n",
              "      <td>NaN</td>\n",
              "    </tr>\n",
              "    <tr>\n",
              "      <th>UNIT_MULT</th>\n",
              "      <td>NaN</td>\n",
              "      <td>NaN</td>\n",
              "      <td>NaN</td>\n",
              "      <td>NaN</td>\n",
              "      <td>NaN</td>\n",
              "      <td>NaN</td>\n",
              "      <td>NaN</td>\n",
              "      <td>NaN</td>\n",
              "    </tr>\n",
              "    <tr>\n",
              "      <th>DECIMALS</th>\n",
              "      <td>NaN</td>\n",
              "      <td>NaN</td>\n",
              "      <td>NaN</td>\n",
              "      <td>NaN</td>\n",
              "      <td>NaN</td>\n",
              "      <td>NaN</td>\n",
              "      <td>NaN</td>\n",
              "      <td>NaN</td>\n",
              "    </tr>\n",
              "    <tr>\n",
              "      <th>BASE_PER</th>\n",
              "      <td>NaN</td>\n",
              "      <td>NaN</td>\n",
              "      <td>NaN</td>\n",
              "      <td>NaN</td>\n",
              "      <td>NaN</td>\n",
              "      <td>NaN</td>\n",
              "      <td>NaN</td>\n",
              "      <td>NaN</td>\n",
              "    </tr>\n",
              "    <tr>\n",
              "      <th>Base period</th>\n",
              "      <td>NaN</td>\n",
              "      <td>NaN</td>\n",
              "      <td>NaN</td>\n",
              "      <td>NaN</td>\n",
              "      <td>NaN</td>\n",
              "      <td>NaN</td>\n",
              "      <td>NaN</td>\n",
              "      <td>NaN</td>\n",
              "    </tr>\n",
              "  </tbody>\n",
              "</table>\n",
              "</div>\n",
              "    <div class=\"colab-df-buttons\">\n",
              "\n",
              "  <div class=\"colab-df-container\">\n",
              "    <button class=\"colab-df-convert\" onclick=\"convertToInteractive('df-f9292ea4-4299-4b22-a568-2ee5e4b8c63a')\"\n",
              "            title=\"Convert this dataframe to an interactive table.\"\n",
              "            style=\"display:none;\">\n",
              "\n",
              "  <svg xmlns=\"http://www.w3.org/2000/svg\" height=\"24px\" viewBox=\"0 -960 960 960\">\n",
              "    <path d=\"M120-120v-720h720v720H120Zm60-500h600v-160H180v160Zm220 220h160v-160H400v160Zm0 220h160v-160H400v160ZM180-400h160v-160H180v160Zm440 0h160v-160H620v160ZM180-180h160v-160H180v160Zm440 0h160v-160H620v160Z\"/>\n",
              "  </svg>\n",
              "    </button>\n",
              "\n",
              "  <style>\n",
              "    .colab-df-container {\n",
              "      display:flex;\n",
              "      gap: 12px;\n",
              "    }\n",
              "\n",
              "    .colab-df-convert {\n",
              "      background-color: #E8F0FE;\n",
              "      border: none;\n",
              "      border-radius: 50%;\n",
              "      cursor: pointer;\n",
              "      display: none;\n",
              "      fill: #1967D2;\n",
              "      height: 32px;\n",
              "      padding: 0 0 0 0;\n",
              "      width: 32px;\n",
              "    }\n",
              "\n",
              "    .colab-df-convert:hover {\n",
              "      background-color: #E2EBFA;\n",
              "      box-shadow: 0px 1px 2px rgba(60, 64, 67, 0.3), 0px 1px 3px 1px rgba(60, 64, 67, 0.15);\n",
              "      fill: #174EA6;\n",
              "    }\n",
              "\n",
              "    .colab-df-buttons div {\n",
              "      margin-bottom: 4px;\n",
              "    }\n",
              "\n",
              "    [theme=dark] .colab-df-convert {\n",
              "      background-color: #3B4455;\n",
              "      fill: #D2E3FC;\n",
              "    }\n",
              "\n",
              "    [theme=dark] .colab-df-convert:hover {\n",
              "      background-color: #434B5C;\n",
              "      box-shadow: 0px 1px 3px 1px rgba(0, 0, 0, 0.15);\n",
              "      filter: drop-shadow(0px 1px 2px rgba(0, 0, 0, 0.3));\n",
              "      fill: #FFFFFF;\n",
              "    }\n",
              "  </style>\n",
              "\n",
              "    <script>\n",
              "      const buttonEl =\n",
              "        document.querySelector('#df-f9292ea4-4299-4b22-a568-2ee5e4b8c63a button.colab-df-convert');\n",
              "      buttonEl.style.display =\n",
              "        google.colab.kernel.accessAllowed ? 'block' : 'none';\n",
              "\n",
              "      async function convertToInteractive(key) {\n",
              "        const element = document.querySelector('#df-f9292ea4-4299-4b22-a568-2ee5e4b8c63a');\n",
              "        const dataTable =\n",
              "          await google.colab.kernel.invokeFunction('convertToInteractive',\n",
              "                                                    [key], {});\n",
              "        if (!dataTable) return;\n",
              "\n",
              "        const docLinkHtml = 'Like what you see? Visit the ' +\n",
              "          '<a target=\"_blank\" href=https://colab.research.google.com/notebooks/data_table.ipynb>data table notebook</a>'\n",
              "          + ' to learn more about interactive tables.';\n",
              "        element.innerHTML = '';\n",
              "        dataTable['output_type'] = 'display_data';\n",
              "        await google.colab.output.renderOutput(dataTable, element);\n",
              "        const docLink = document.createElement('div');\n",
              "        docLink.innerHTML = docLinkHtml;\n",
              "        element.appendChild(docLink);\n",
              "      }\n",
              "    </script>\n",
              "  </div>\n",
              "\n",
              "\n",
              "<div id=\"df-b2abba67-4a50-4ddc-bd99-ed4dbd367246\">\n",
              "  <button class=\"colab-df-quickchart\" onclick=\"quickchart('df-b2abba67-4a50-4ddc-bd99-ed4dbd367246')\"\n",
              "            title=\"Suggest charts\"\n",
              "            style=\"display:none;\">\n",
              "\n",
              "<svg xmlns=\"http://www.w3.org/2000/svg\" height=\"24px\"viewBox=\"0 0 24 24\"\n",
              "     width=\"24px\">\n",
              "    <g>\n",
              "        <path d=\"M19 3H5c-1.1 0-2 .9-2 2v14c0 1.1.9 2 2 2h14c1.1 0 2-.9 2-2V5c0-1.1-.9-2-2-2zM9 17H7v-7h2v7zm4 0h-2V7h2v10zm4 0h-2v-4h2v4z\"/>\n",
              "    </g>\n",
              "</svg>\n",
              "  </button>\n",
              "\n",
              "<style>\n",
              "  .colab-df-quickchart {\n",
              "      --bg-color: #E8F0FE;\n",
              "      --fill-color: #1967D2;\n",
              "      --hover-bg-color: #E2EBFA;\n",
              "      --hover-fill-color: #174EA6;\n",
              "      --disabled-fill-color: #AAA;\n",
              "      --disabled-bg-color: #DDD;\n",
              "  }\n",
              "\n",
              "  [theme=dark] .colab-df-quickchart {\n",
              "      --bg-color: #3B4455;\n",
              "      --fill-color: #D2E3FC;\n",
              "      --hover-bg-color: #434B5C;\n",
              "      --hover-fill-color: #FFFFFF;\n",
              "      --disabled-bg-color: #3B4455;\n",
              "      --disabled-fill-color: #666;\n",
              "  }\n",
              "\n",
              "  .colab-df-quickchart {\n",
              "    background-color: var(--bg-color);\n",
              "    border: none;\n",
              "    border-radius: 50%;\n",
              "    cursor: pointer;\n",
              "    display: none;\n",
              "    fill: var(--fill-color);\n",
              "    height: 32px;\n",
              "    padding: 0;\n",
              "    width: 32px;\n",
              "  }\n",
              "\n",
              "  .colab-df-quickchart:hover {\n",
              "    background-color: var(--hover-bg-color);\n",
              "    box-shadow: 0 1px 2px rgba(60, 64, 67, 0.3), 0 1px 3px 1px rgba(60, 64, 67, 0.15);\n",
              "    fill: var(--button-hover-fill-color);\n",
              "  }\n",
              "\n",
              "  .colab-df-quickchart-complete:disabled,\n",
              "  .colab-df-quickchart-complete:disabled:hover {\n",
              "    background-color: var(--disabled-bg-color);\n",
              "    fill: var(--disabled-fill-color);\n",
              "    box-shadow: none;\n",
              "  }\n",
              "\n",
              "  .colab-df-spinner {\n",
              "    border: 2px solid var(--fill-color);\n",
              "    border-color: transparent;\n",
              "    border-bottom-color: var(--fill-color);\n",
              "    animation:\n",
              "      spin 1s steps(1) infinite;\n",
              "  }\n",
              "\n",
              "  @keyframes spin {\n",
              "    0% {\n",
              "      border-color: transparent;\n",
              "      border-bottom-color: var(--fill-color);\n",
              "      border-left-color: var(--fill-color);\n",
              "    }\n",
              "    20% {\n",
              "      border-color: transparent;\n",
              "      border-left-color: var(--fill-color);\n",
              "      border-top-color: var(--fill-color);\n",
              "    }\n",
              "    30% {\n",
              "      border-color: transparent;\n",
              "      border-left-color: var(--fill-color);\n",
              "      border-top-color: var(--fill-color);\n",
              "      border-right-color: var(--fill-color);\n",
              "    }\n",
              "    40% {\n",
              "      border-color: transparent;\n",
              "      border-right-color: var(--fill-color);\n",
              "      border-top-color: var(--fill-color);\n",
              "    }\n",
              "    60% {\n",
              "      border-color: transparent;\n",
              "      border-right-color: var(--fill-color);\n",
              "    }\n",
              "    80% {\n",
              "      border-color: transparent;\n",
              "      border-right-color: var(--fill-color);\n",
              "      border-bottom-color: var(--fill-color);\n",
              "    }\n",
              "    90% {\n",
              "      border-color: transparent;\n",
              "      border-bottom-color: var(--fill-color);\n",
              "    }\n",
              "  }\n",
              "</style>\n",
              "\n",
              "  <script>\n",
              "    async function quickchart(key) {\n",
              "      const quickchartButtonEl =\n",
              "        document.querySelector('#' + key + ' button');\n",
              "      quickchartButtonEl.disabled = true;  // To prevent multiple clicks.\n",
              "      quickchartButtonEl.classList.add('colab-df-spinner');\n",
              "      try {\n",
              "        const charts = await google.colab.kernel.invokeFunction(\n",
              "            'suggestCharts', [key], {});\n",
              "      } catch (error) {\n",
              "        console.error('Error during call to suggestCharts:', error);\n",
              "      }\n",
              "      quickchartButtonEl.classList.remove('colab-df-spinner');\n",
              "      quickchartButtonEl.classList.add('colab-df-quickchart-complete');\n",
              "    }\n",
              "    (() => {\n",
              "      let quickchartButtonEl =\n",
              "        document.querySelector('#df-b2abba67-4a50-4ddc-bd99-ed4dbd367246 button');\n",
              "      quickchartButtonEl.style.display =\n",
              "        google.colab.kernel.accessAllowed ? 'block' : 'none';\n",
              "    })();\n",
              "  </script>\n",
              "</div>\n",
              "\n",
              "  <div id=\"id_2f798b02-deee-407a-9479-16a7ac10bbdf\">\n",
              "    <style>\n",
              "      .colab-df-generate {\n",
              "        background-color: #E8F0FE;\n",
              "        border: none;\n",
              "        border-radius: 50%;\n",
              "        cursor: pointer;\n",
              "        display: none;\n",
              "        fill: #1967D2;\n",
              "        height: 32px;\n",
              "        padding: 0 0 0 0;\n",
              "        width: 32px;\n",
              "      }\n",
              "\n",
              "      .colab-df-generate:hover {\n",
              "        background-color: #E2EBFA;\n",
              "        box-shadow: 0px 1px 2px rgba(60, 64, 67, 0.3), 0px 1px 3px 1px rgba(60, 64, 67, 0.15);\n",
              "        fill: #174EA6;\n",
              "      }\n",
              "\n",
              "      [theme=dark] .colab-df-generate {\n",
              "        background-color: #3B4455;\n",
              "        fill: #D2E3FC;\n",
              "      }\n",
              "\n",
              "      [theme=dark] .colab-df-generate:hover {\n",
              "        background-color: #434B5C;\n",
              "        box-shadow: 0px 1px 3px 1px rgba(0, 0, 0, 0.15);\n",
              "        filter: drop-shadow(0px 1px 2px rgba(0, 0, 0, 0.3));\n",
              "        fill: #FFFFFF;\n",
              "      }\n",
              "    </style>\n",
              "    <button class=\"colab-df-generate\" onclick=\"generateWithVariable('correlacion')\"\n",
              "            title=\"Generate code using this dataframe.\"\n",
              "            style=\"display:none;\">\n",
              "\n",
              "  <svg xmlns=\"http://www.w3.org/2000/svg\" height=\"24px\"viewBox=\"0 0 24 24\"\n",
              "       width=\"24px\">\n",
              "    <path d=\"M7,19H8.4L18.45,9,17,7.55,7,17.6ZM5,21V16.75L18.45,3.32a2,2,0,0,1,2.83,0l1.4,1.43a1.91,1.91,0,0,1,.58,1.4,1.91,1.91,0,0,1-.58,1.4L9.25,21ZM18.45,9,17,7.55Zm-12,3A5.31,5.31,0,0,0,4.9,8.1,5.31,5.31,0,0,0,1,6.5,5.31,5.31,0,0,0,4.9,4.9,5.31,5.31,0,0,0,6.5,1,5.31,5.31,0,0,0,8.1,4.9,5.31,5.31,0,0,0,12,6.5,5.46,5.46,0,0,0,6.5,12Z\"/>\n",
              "  </svg>\n",
              "    </button>\n",
              "    <script>\n",
              "      (() => {\n",
              "      const buttonEl =\n",
              "        document.querySelector('#id_2f798b02-deee-407a-9479-16a7ac10bbdf button.colab-df-generate');\n",
              "      buttonEl.style.display =\n",
              "        google.colab.kernel.accessAllowed ? 'block' : 'none';\n",
              "\n",
              "      buttonEl.onclick = () => {\n",
              "        google.colab.notebook.generateWithVariable('correlacion');\n",
              "      }\n",
              "      })();\n",
              "    </script>\n",
              "  </div>\n",
              "\n",
              "    </div>\n",
              "  </div>\n"
            ],
            "application/vnd.google.colaboratory.intrinsic+json": {
              "type": "dataframe",
              "variable_name": "correlacion",
              "summary": "{\n  \"name\": \"correlacion\",\n  \"rows\": 8,\n  \"fields\": [\n    {\n      \"column\": \"TIME_PERIOD\",\n      \"properties\": {\n        \"dtype\": \"number\",\n        \"std\": 0.6622542906831484,\n        \"min\": 0.06343100037611737,\n        \"max\": 1.0,\n        \"num_unique_values\": 2,\n        \"samples\": [\n          0.06343100037611737,\n          1.0\n        ],\n        \"semantic_type\": \"\",\n        \"description\": \"\"\n      }\n    },\n    {\n      \"column\": \"Time period\",\n      \"properties\": {\n        \"dtype\": \"number\",\n        \"std\": null,\n        \"min\": null,\n        \"max\": null,\n        \"num_unique_values\": 0,\n        \"samples\": [],\n        \"semantic_type\": \"\",\n        \"description\": \"\"\n      }\n    },\n    {\n      \"column\": \"OBS_VALUE\",\n      \"properties\": {\n        \"dtype\": \"number\",\n        \"std\": 0.6622542906831484,\n        \"min\": 0.06343100037611737,\n        \"max\": 1.0,\n        \"num_unique_values\": 2,\n        \"samples\": [],\n        \"semantic_type\": \"\",\n        \"description\": \"\"\n      }\n    },\n    {\n      \"column\": \"Observation value\",\n      \"properties\": {\n        \"dtype\": \"number\",\n        \"std\": null,\n        \"min\": null,\n        \"max\": null,\n        \"num_unique_values\": 0,\n        \"samples\": [],\n        \"semantic_type\": \"\",\n        \"description\": \"\"\n      }\n    },\n    {\n      \"column\": \"UNIT_MULT\",\n      \"properties\": {\n        \"dtype\": \"number\",\n        \"std\": null,\n        \"min\": null,\n        \"max\": null,\n        \"num_unique_values\": 0,\n        \"samples\": [],\n        \"semantic_type\": \"\",\n        \"description\": \"\"\n      }\n    },\n    {\n      \"column\": \"DECIMALS\",\n      \"properties\": {\n        \"dtype\": \"number\",\n        \"std\": null,\n        \"min\": null,\n        \"max\": null,\n        \"num_unique_values\": 0,\n        \"samples\": [],\n        \"semantic_type\": \"\",\n        \"description\": \"\"\n      }\n    },\n    {\n      \"column\": \"BASE_PER\",\n      \"properties\": {\n        \"dtype\": \"number\",\n        \"std\": null,\n        \"min\": null,\n        \"max\": null,\n        \"num_unique_values\": 0,\n        \"samples\": [],\n        \"semantic_type\": \"\",\n        \"description\": \"\"\n      }\n    },\n    {\n      \"column\": \"Base period\",\n      \"properties\": {\n        \"dtype\": \"number\",\n        \"std\": null,\n        \"min\": null,\n        \"max\": null,\n        \"num_unique_values\": 0,\n        \"samples\": [],\n        \"semantic_type\": \"\",\n        \"description\": \"\"\n      }\n    }\n  ]\n}"
            }
          },
          "metadata": {},
          "execution_count": 24
        }
      ]
    },
    {
      "cell_type": "markdown",
      "source": [
        "Una vez se posea la matriz de correlación, procedemos a generar un mapa de calor para analizar los datos de una manera visual con el comando \".heatmap()\" de la librería seaborn.\n",
        "Para el análisis del mapa se toma lo siguiente:\n",
        "* Colores cálidos(rojos): correlaciones positivas. Indica que las columnas relacionadas van a aumentar o disminuir si la relación padre lo hace. Tambien, se puede intuir que si tienen una relación fuerte, se puede predecir o estimar el valor de la otra relacion.\n",
        "* Colores fríos(azules): correlaciones negativas. Indica que las columnas relacionadas van a hacer lo contrario en caso de que disminuya o aumente la columna padre. Tambien, si es una relación debil, conocer una de las relaciones no ayuda a predecir el valor de la otra.\n",
        "* Colores de la gama del blanco: poca o ninguna correlación."
      ],
      "metadata": {
        "id": "-qK5_SF9Im7V"
      }
    },
    {
      "cell_type": "code",
      "source": [
        "# Mapa de calor de la matriz de correlación\n",
        "sns.heatmap(correlacion, annot=True, cmap='coolwarm')\n",
        "plt.title('Mapa de calor')\n",
        "plt.show()"
      ],
      "metadata": {
        "colab": {
          "base_uri": "https://localhost:8080/",
          "height": 565
        },
        "id": "DEIMrf2CIppx",
        "outputId": "63d3913d-a4c1-4a3b-ba93-367d13e5703f"
      },
      "execution_count": 25,
      "outputs": [
        {
          "output_type": "display_data",
          "data": {
            "text/plain": [
              "<Figure size 640x480 with 2 Axes>"
            ],
            "image/png": "[encoded data removed]"
          },
          "metadata": {}
        }
      ]
    },
    {
      "cell_type": "markdown",
      "source": [
        "#### Análisis Univariable"
      ],
      "metadata": {
        "id": "BrNwiZCQIvh2"
      }
    },
    {
      "cell_type": "markdown",
      "source": [
        "Se realiza un análisis univariable para resumir las tendencias y presencias en los valores atípicos."
      ],
      "metadata": {
        "id": "xYcP9hQOI23_"
      }
    },
    {
      "cell_type": "code",
      "source": [
        "plt.figure(figsize=(15, 15))\n",
        "df_numerico.plot(kind='box', subplots=True, layout=(int(len(df_numerico.columns)/2), 2), figsize=(8, 8), title='Resumen de distribución')\n",
        "plt.show()"
      ],
      "metadata": {
        "colab": {
          "base_uri": "https://localhost:8080/",
          "height": 773
        },
        "id": "f2w6QbXrIvDz",
        "outputId": "3cf74eb3-e13f-4169-988e-aa23697c80b4"
      },
      "execution_count": 26,
      "outputs": [
        {
          "output_type": "display_data",
          "data": {
            "text/plain": [
              "<Figure size 1500x1500 with 0 Axes>"
            ]
          },
          "metadata": {}
        },
        {
          "output_type": "display_data",
          "data": {
            "text/plain": [
              "<Figure size 800x800 with 8 Axes>"
            ],
            "image/png": "[encoded data removed]"
          },
          "metadata": {}
        }
      ]
    },
    {
      "cell_type": "markdown",
      "source": [
        "### Descripción del conjunto de datos"
      ],
      "metadata": {
        "id": "TBQx_B6geekz"
      }
    },
    {
      "cell_type": "markdown",
      "source": [
        "El conjunto de datos consta de..."
      ],
      "metadata": {
        "id": "x7hGiNjVq8my"
      }
    },
    {
      "cell_type": "markdown",
      "source": [
        "### Análisis de los parámetros"
      ],
      "metadata": {
        "id": "AsGWvbD6ep6Y"
      }
    },
    {
      "cell_type": "markdown",
      "source": [
        "#### Preguntas clave:"
      ],
      "metadata": {
        "id": "DpAPKfB0e0An"
      }
    },
    {
      "cell_type": "markdown",
      "source": [
        "### Detección de valores atípicos en las mediciones"
      ],
      "metadata": {
        "id": "-Tnesm2DejIr"
      }
    },
    {
      "cell_type": "markdown",
      "source": [
        "## Procesamiento de Datos (Limpieza de datos y Transformación)"
      ],
      "metadata": {
        "id": "yEtjIJxOe4WQ"
      }
    },
    {
      "cell_type": "markdown",
      "source": [
        "### Eliminación de duplicados"
      ],
      "metadata": {
        "id": "eCInN5V4ghco"
      }
    },
    {
      "cell_type": "markdown",
      "source": [
        "El siguiente método se utiliza para detectar cuántos duplicados hay en los datos y eliminarlos si se encuentran"
      ],
      "metadata": {
        "id": "f2erNHGgyger"
      }
    },
    {
      "cell_type": "code",
      "source": [
        "def drop_duplicates(df, duplicados):\n",
        "  if duplicados > 1:\n",
        "    print(f'Tamaño previo: {df.shape}')\n",
        "\n",
        "    df.drop_duplicates(inplace=True)\n",
        "\n",
        "    print(f'Tamaño posterior: {df.shape}')\n",
        "  else:\n",
        "    print('No hay filas duplicadas')\n",
        "\n",
        "# Llamada a la función para realizar el proceso\n",
        "drop_duplicates(df_original, duplicados)"
      ],
      "metadata": {
        "id": "ldnY0datyTfY"
      },
      "execution_count": null,
      "outputs": []
    },
    {
      "cell_type": "markdown",
      "source": [
        "### Transformación de datos"
      ],
      "metadata": {
        "id": "hj1k3Vrugq50"
      }
    },
    {
      "cell_type": "markdown",
      "source": [
        "Elimina los espacios en blanco al principio y al final de cada valor en un DataFrame siempre y cuando sea de tipo string o de tipo object"
      ],
      "metadata": {
        "id": "PbF0J-Tj4yv_"
      }
    },
    {
      "cell_type": "code",
      "source": [
        "def trim_whitespace(df):\n",
        "  df = df.apply(lambda x: x.str.strip() if x.dtype == \"object\" || x.dtype == \"str\" else x)\n",
        "  return df"
      ],
      "metadata": {
        "id": "IJVCCDtD4tT3"
      },
      "execution_count": null,
      "outputs": []
    },
    {
      "cell_type": "markdown",
      "source": [
        "Eliminar los espacios en blanco"
      ],
      "metadata": {
        "id": "omoTjpwd5Yv1"
      }
    },
    {
      "cell_type": "code",
      "source": [
        "df_original = trim_whitespace(df_original)"
      ],
      "metadata": {
        "id": "G29mDTwA5UP_"
      },
      "execution_count": null,
      "outputs": []
    },
    {
      "cell_type": "markdown",
      "source": [
        "Se procede a reemplazar los registros que posean '?' ya que es recomendable eliminar estas instancias. Debido a que no aportan nada al entrenamiento de los modelos y también porque así se realiza una estandarización en los datos"
      ],
      "metadata": {
        "id": "YcWMzCw10mLr"
      }
    },
    {
      "cell_type": "code",
      "source": [
        "df_original.replace('?', np.nan, inplace=True)"
      ],
      "metadata": {
        "id": "CSS4tHyN0i_M"
      },
      "execution_count": null,
      "outputs": []
    },
    {
      "cell_type": "markdown",
      "source": [
        "Codificar las variables categóricas significa transformar las categorías en valores numéricos para que los algoritmos de Machine Learning puedan procesarlas. Esto se hará para ampliar la compatibilidad entre los algoritmos a utilizar."
      ],
      "metadata": {
        "id": "vlpPxp7GJJ5h"
      }
    },
    {
      "cell_type": "markdown",
      "source": [
        "El siguiente método aplica LabelEncoder a las columnas especificadas de un DataFrame"
      ],
      "metadata": {
        "id": "uJYk2ilNJPg_"
      }
    },
    {
      "cell_type": "code",
      "source": [
        "def encode_labels(df, columns):\n",
        "  label_encoder = LabelEncoder()  # Creamos el codificador\n",
        "\n",
        "  for column in columns:\n",
        "    if column in df.columns:\n",
        "      df[column] = label_encoder.fit_transform(df[column])\n",
        "    else:\n",
        "      print(f'La columna \"{column}\" no se encuentra en el DataFrame.')\n",
        "\n",
        "  return df\n",
        "\n",
        "# Columnas a las que se le aplciará el label_encoder\n",
        "columns_to_encode = ['', '', '']\n",
        "df_data = encode_labels(df_data, columns_to_encode)"
      ],
      "metadata": {
        "id": "bgXqSdPnJP1p"
      },
      "execution_count": null,
      "outputs": []
    },
    {
      "cell_type": "markdown",
      "source": [
        "### Eliminación de nulos"
      ],
      "metadata": {
        "id": "X7Izr3l9gjKV"
      }
    },
    {
      "cell_type": "markdown",
      "source": [
        "Se proceden a eliminar nulos, ya que según el análisis realizado, la eliminación de estos nulos no afecta a la hora del entrenamiento de modelos o el análisis de los datos que se quiere realizar"
      ],
      "metadata": {
        "id": "EyvhC17I0QvT"
      }
    },
    {
      "cell_type": "code",
      "source": [
        "df_original.dropna()"
      ],
      "metadata": {
        "id": "QZanrCvk0OKq"
      },
      "execution_count": null,
      "outputs": []
    },
    {
      "cell_type": "markdown",
      "source": [
        "### Eliminación de outliers"
      ],
      "metadata": {
        "id": "E7cDJlBNzlyT"
      }
    },
    {
      "cell_type": "markdown",
      "source": [
        "### Selección de características"
      ],
      "metadata": {
        "id": "sbgyYRu6yo5t"
      }
    },
    {
      "cell_type": "markdown",
      "source": [
        "Se proceden a eliminar las columnas menos relevantes (si es que las hay). Además, con \"inplace=True\": modifica datos directamente sin crear un dataframe nuevo"
      ],
      "metadata": {
        "id": "z2yXDBQ2yuBJ"
      }
    },
    {
      "cell_type": "code",
      "source": [
        "df_original.drop(columns=col_descartadas, inplace=True)"
      ],
      "metadata": {
        "id": "-vP26PlgyuIh"
      },
      "execution_count": null,
      "outputs": []
    },
    {
      "cell_type": "markdown",
      "source": [
        "## Análisis EDA luego de limpieza"
      ],
      "metadata": {
        "id": "xsQH_Crge916"
      }
    },
    {
      "cell_type": "markdown",
      "source": [
        "### Entender la estructura de los datos"
      ],
      "metadata": {
        "id": "OjDniDNbfAd2"
      }
    },
    {
      "cell_type": "markdown",
      "source": [
        "### Detección de valores atípicos (outliers)"
      ],
      "metadata": {
        "id": "d6sudDtHfEjK"
      }
    },
    {
      "cell_type": "markdown",
      "source": [
        "### Detección de valores faltantes"
      ],
      "metadata": {
        "id": "F5ZmnyyIfGYS"
      }
    },
    {
      "cell_type": "markdown",
      "source": [
        "## Implementación de los Algoritmos"
      ],
      "metadata": {
        "id": "zMqQB1CXg56l"
      }
    },
    {
      "cell_type": "markdown",
      "source": [
        "### Distribución de datos para entrenamiento"
      ],
      "metadata": {
        "id": "ArwpJqJMhIEo"
      }
    },
    {
      "cell_type": "markdown",
      "source": [
        "Primero se debe separar las características (X) y la variable objetivo (y).\n",
        "\n",
        "x = variables para realizar la predicción, se conocen tambien como variables de entrada o características.\n",
        "\n",
        "y = variable predicción, se conoce como variable de salida o etiqueta"
      ],
      "metadata": {
        "id": "JbMvYbn8Lif0"
      }
    },
    {
      "cell_type": "code",
      "source": [
        "X = df_data[['', '', '']]\n",
        "y = df_data['']"
      ],
      "metadata": {
        "id": "f1ZjZpIvLmtC"
      },
      "execution_count": null,
      "outputs": []
    },
    {
      "cell_type": "markdown",
      "source": [
        "Se procede a dividir el dataset en conjuntos de entrenamiento y prueba. El random_state se utiliza para establecer una semilla para el generador de números aleatorios. Esto garantiza que la división del conjunto de datos en conjuntos de entrenamiento y prueba sea reproducible. Utilizar el mismo random_state en diferentes ejecuciones permite evaluar cómo cambios en otros aspectos del modelo"
      ],
      "metadata": {
        "id": "kvpEjWG3KhyK"
      }
    },
    {
      "cell_type": "code",
      "source": [
        "X_train, X_test, y_train, y_test = train_test_split(X, y, test_size=0.3, random_state=42)"
      ],
      "metadata": {
        "id": "yFfc6Z28KrUq"
      },
      "execution_count": null,
      "outputs": []
    },
    {
      "cell_type": "markdown",
      "source": [
        "### Matrices de Confusión"
      ],
      "metadata": {
        "id": "FsNcdAY2hzaA"
      }
    },
    {
      "cell_type": "markdown",
      "source": [
        "### Modelo"
      ],
      "metadata": {
        "id": "6ezw9S6OhMnD"
      }
    },
    {
      "cell_type": "markdown",
      "source": [
        "### Modelo"
      ],
      "metadata": {
        "id": "SHJpNbNEhP4F"
      }
    },
    {
      "cell_type": "markdown",
      "source": [
        "### Modelo"
      ],
      "metadata": {
        "id": "TRYwnx-whQOT"
      }
    },
    {
      "cell_type": "markdown",
      "source": [
        "### Modelo"
      ],
      "metadata": {
        "id": "6m_b2gePhSFJ"
      }
    },
    {
      "cell_type": "markdown",
      "source": [
        "## Análisis Comparativo de los Modelos"
      ],
      "metadata": {
        "id": "pwJ1kCwnhXGl"
      }
    },
    {
      "cell_type": "markdown",
      "source": [
        "### Implementación de Keras"
      ],
      "metadata": {
        "id": "or9fKo-7hs4A"
      }
    },
    {
      "cell_type": "markdown",
      "source": [
        "### Evaluación de desempeño"
      ],
      "metadata": {
        "id": "9lKs_xEFhZ2L"
      }
    },
    {
      "cell_type": "markdown",
      "source": [
        "Creamos una función para evaluar el modelo con los datos de exactitud, precisión, exhaustividad y puntuación F1(Medida de balance entre precisión y exhaustividad)"
      ],
      "metadata": {
        "id": "HjEBHUVcLxR1"
      }
    },
    {
      "cell_type": "code",
      "source": [
        "def evaluar_modelo(y_test, y_pred):\n",
        "  accuracy = accuracy_score(y_test, y_pred)\n",
        "  precision = precision_score(y_test, y_pred, average='weighted', zero_division=1)\n",
        "  recall = recall_score(y_test, y_pred, average='weighted', zero_division=1)\n",
        "  f1 = f1_score(y_test, y_pred, average='weighted', zero_division=1)\n",
        "\n",
        "  return accuracy, precision, recall, f1"
      ],
      "metadata": {
        "id": "Ndca-uiuLxXA"
      },
      "execution_count": null,
      "outputs": []
    },
    {
      "cell_type": "markdown",
      "source": [
        "Se agrega en un listado los resultados de la evaluación de cada modelo para ser comparados en una tabla"
      ],
      "metadata": {
        "id": "cAnSwpCWL4xr"
      }
    },
    {
      "cell_type": "code",
      "source": [
        "resultados = {} # Evaluación de cada modelo\n",
        "resultados['Random Forest'] = evaluar_modelo(y_test, predict_random_forest) # Random Forest\n",
        "resultados['Árbol de Decisión'] = evaluar_modelo(y_test, predict_decision_tree) # Árbol de Decisión\n",
        "resultados['Naive Bayes'] = evaluar_modelo(y_test, predict_naive_bayes) # Naive Bayes\n",
        "resultados['Redes Neuronales'] = evaluar_modelo(y_test, predict_neural_network) # Redes Neuronales"
      ],
      "metadata": {
        "id": "S1Jlf9r-L8gd"
      },
      "execution_count": null,
      "outputs": []
    },
    {
      "cell_type": "markdown",
      "source": [
        "### Matrices de Confusión"
      ],
      "metadata": {
        "id": "eQ0euTohhgUK"
      }
    },
    {
      "cell_type": "markdown",
      "source": [
        "## Comparativa y Visualización de datos"
      ],
      "metadata": {
        "id": "7LDc2N6LfJcv"
      }
    },
    {
      "cell_type": "markdown",
      "source": [
        "### Distribución"
      ],
      "metadata": {
        "id": "-_9OvjYvfasj"
      }
    },
    {
      "cell_type": "markdown",
      "source": [
        "### Análisis de tendencia"
      ],
      "metadata": {
        "id": "4VI7hgS8fdAX"
      }
    },
    {
      "cell_type": "markdown",
      "source": [
        "## Síntesis de Resultados"
      ],
      "metadata": {
        "id": "ehzGEJUev58x"
      }
    },
    {
      "cell_type": "markdown",
      "source": [
        "### Hallazgos Clave"
      ],
      "metadata": {
        "id": "lezGkdYpv_UH"
      }
    },
    {
      "cell_type": "markdown",
      "source": [
        "### Resultados vs Hipótesis"
      ],
      "metadata": {
        "id": "GJrM-RHAwB8S"
      }
    },
    {
      "cell_type": "markdown",
      "source": [
        "### Acciones"
      ],
      "metadata": {
        "id": "428DXBGwwFXO"
      }
    },
    {
      "cell_type": "markdown",
      "source": [
        "# Conclusiones"
      ],
      "metadata": {
        "id": "MRgy06T4fnzK"
      }
    },
    {
      "cell_type": "markdown",
      "source": [
        "# Referencias"
      ],
      "metadata": {
        "id": "70lrGQgtSVMs"
      }
    },
    {
      "cell_type": "markdown",
      "source": [
        "Cramér, H. (1946). Mathematical Methods of Statistics. Princeton University Press.\n",
        "\n",
        "Guzman, M. (2022, 23 de mayo). *Guía para limpiar datos con Pandas*. Medium. https://medium.com/nowports-tech/guia-limpiar-datos-con-pandas-3dc634c47e11\n",
        "\n",
        "Nik. (s.f.). How to Calculate Cramer’s V in Python. datagy.io1. Recuperado de  https://datagy.io/cramers-v-python/\n",
        "\n",
        "The pandas development team. (2024). *pandas.DataFrame — pandas 2.1.1 documentation.* https://pandas.pydata.org/docs/reference/frame.html"
      ],
      "metadata": {
        "id": "XcQ59gEVScsf"
      }
    }
  ]
}